{
 "cells": [
  {
   "cell_type": "markdown",
   "metadata": {},
   "source": [
    "- KEYWORDS: Linear scalar system, Linear Systems\n"
   ]
  },
  {
   "cell_type": "code",
   "execution_count": 1,
   "metadata": {},
   "outputs": [
    {
     "name": "stdout",
     "output_type": "stream",
     "text": [
      "# Out[0]:"
     ]
    }
   ],
   "source": []
  },
  {
   "cell_type": "markdown",
   "metadata": {},
   "source": [
    "## Analytic and Numerical Solution of Linear Scalar and System of Equations\n",
    "\n"
   ]
  },
  {
   "cell_type": "markdown",
   "metadata": {},
   "source": [
    "-   Let us consider a typical simple physical system that is frequently present in chemical engineering. The flow of the tank $F_2(t)$ is added to another flow $F_u(t)$ to generate a desired flow $F(t)$, see Figure:\n",
    "    \n",
    "    ![img](./figuresCHE472/tank.jpg)\n",
    "\n",
    "-   The mass conservation law, the system's representation of this plant is given by the following expressions:\n",
    "\n",
    "$$A_1\\frac{dh_1}{dt}=F_1(t)-F_2(t)\\label{eq1}\\tag{1}$$\n",
    "\n",
    "$$F(t)=F_2(t)+F_u(t)\\label{eq2}\\tag{2}$$\n",
    "\n",
    "-   Knowing that the linear characteristic of the valve is usually given as ($F_2(t)=x(t)/K$) at the tank's exit, one can easily come to the following set of equations:\n",
    "\n",
    "$$\\begin{array}{c}\\frac{dx}{dt}=-\\frac{1}{A_1K}x(t)+\\frac{1}{A_1}F_1(t)=ax(t)+bu_1(t)\\\\ F={\\frac{1}{K}}x(t)+F_u(t)=cx(t)+du_2(t)\\end{array}\\label{eq3}\\tag{3}$$\n",
    "\n",
    "-   Eq.[eq1](#eq1) - [eq2](#eq2) is the first order differential equation and the output of interest is given as the sum of two flows, that is $F=F_2(t)+F_u(t)$. We observe that Eqs.[eq1](#eq1)-[eq2](#eq2) are written in the state space form $\\Sigma_s=(a,b,c,d)=(A,B,C,D)$ where $(A=a=-\\frac{1}{A_1K}$, $B=b=\\frac{1}{A_1}$, $C=c=\\frac{1}{K}$, $D=d=1$). We also recall that every first order differential equation with constant coefficient can be solved by transforming it in its integral form.\n",
    "\n",
    "-   The **integral form** of above equation is calculated by the procedure of completing a total differential in Eq.[eq1](#eq1)\n",
    "\n",
    "$$\\begin{array}{c} \\dot{x}(t)=ax(t)+bu_1(t)\\;\\frac{multiply\\;by\\;e^{-at}}{\\rightarrow} e^{-at}\\left[\\dot{x}(t)-ax(t)\\right]=e^{-at}bu_1(t)\\;\\rightarrow \\int_{t_0}^{t}\\frac{d}{dt}\\left[x(t)e^{-at}\\right]dt=\\int_{t_0}^{t}e^{-a\\tau}bu_1(\\tau)d\\tau \\end{array}$$\n",
    "\n",
    "so that the integral is evaluated between some $t_0$ and given $t$;\n",
    "$$\\begin{array}{c}x(t)e^{-at}-x(t_0)e^{-at_0}=\\int_{t_0}^{t}e^{-a\\tau}bu_1(\\tau)d\\tau\\;\\rightarrow x(t)=e^{a(t-t_0)}x({t_0})+e^{at}\\int_{t_0}^{t}e^{-a\\tau}bu_1(\\tau)d\\tau \\end{array}$$\n",
    "\n",
    "-   The final integral form of the solution of the first order differential equation with constant coefficients is:\n",
    "\n",
    "$$\\begin{array}{ccc}x(t)&=&e^{a(t-t_0)}x({t_0})+\\int_{t_0}^{t}e^{a(t-\\tau)}bu_1(\\tau)d\\tau\\\\ y(t)&=&c\\left\\{e^{a(t-t_0)}x({t_0})+\\int_{t_0}^{t}e^{a(t-\\tau)} bu(\\tau)d\\tau\\right\\}+d {u}_2(t) \\end{array}\\label{eq5}\\tag{5}$$\n",
    "\n",
    "-   These equations provide the  response of the system Eq.[eq1](#eq1)-[eq2](#eq2), for example, if $F_1(t)$ and $F_2(t)$ (that is ${u}_1(t)=F_1(t)$, and $u_2(t)=F_2(t)$) are known functions, we can obtain the continuous time evolution of the output flow $F$, see [http://www.youtube.com/watch?v=A5Ak75iG8OI](http://www.youtube.com/watch?v=A5Ak75iG8OI)\n",
    "\n",
    "-   Let us assume that we know the input function $u_1(t)=e^{-2t}$ and hence we can solve for the expression in Eq.[eq5](#eq5). Therefore, we have:\n",
    "\n"
   ]
  },
  {
   "cell_type": "code",
   "execution_count": 2,
   "metadata": {},
   "outputs": [
    {
     "data": {
      "text/plain": [
       "Text(0, 0.5, 'X')"
      ]
     },
     "execution_count": 2,
     "metadata": {},
     "output_type": "execute_result"
    },
    {
     "data": {
      "image/png": "[encoded data removed]",
      "text/plain": [
       "<Figure size 432x288 with 1 Axes>"
      ]
     },
     "metadata": {
      "needs_background": "light"
     },
     "output_type": "display_data"
    }
   ],
   "source": [
    "import numpy as np\n",
    "import math\n",
    "\n",
    "a = -0.5\n",
    "b = 1\n",
    "\n",
    "t0=0\n",
    "x0=1\n",
    "\n",
    "t, h = np.linspace(t0, 7, 100, retstep=True)  # Note the optional argument to get the stepsize.\n",
    "\n",
    "N=len(t)\n",
    "\n",
    "X=np.zeros(N)\n",
    "\n",
    "for i in range(len(t)):\n",
    "   X[i]= np.exp(a*t[i])\n",
    "\n",
    "#matplotlib inline\n",
    "import matplotlib.pyplot as plt\n",
    "plt.plot(t, X)\n",
    "plt.xlabel('t')\n",
    "plt.ylabel('X')\n",
    "#plt.xlim([x.min(), x.max()])"
   ]
  },
  {
   "cell_type": "markdown",
   "metadata": {},
   "source": [
    "-   We observe that the entire response of the system Eq.[eq5](#eq5) contains the contribution associated with the initial condition and the contribution associated with the input. Therefore, in the case when only input is present we need to solve the following expression\n",
    "    \n",
    "    $$x(t)=\\int_{t_0}^{t}e^{a(t-\\tau)}bu_1(\\tau)d\\tau$$ \n",
    "    \n",
    "    which leads to the following solution\n",
    "    \n",
    "    $$x(t)=\\int_{t_0}^{t}be^{a(t-\\tau)-2\\tau}d\\tau=be^{at}\\int_{t_0}^te^{(-a-2)\\tau}d\\tau=be^{at}\\frac{1}{-a-2}\\int_{t_0}^te^{(-a-2)\\tau}d(-a-2)\\tau$$\n",
    "    \n",
    "    so finally we obtain\n",
    "    $$x(t)=be^{at}\\frac{1}{a+2}\\left\\{1-e^{(-a-2)t}\\right\\}=\\frac{b}{a+2}\\left\\{e^{at}-e^{-2t} \\right\\}$$\n",
    "    \n",
    "    By plotting the input contribution of the overall response we obtain:\n",
    "\n"
   ]
  },
  {
   "cell_type": "code",
   "execution_count": 3,
   "metadata": {},
   "outputs": [
    {
     "data": {
      "text/plain": [
       "Text(0, 0.5, 'X')"
      ]
     },
     "execution_count": 3,
     "metadata": {},
     "output_type": "execute_result"
    },
    {
     "data": {
      "image/png": "[encoded data removed]",
      "text/plain": [
       "<Figure size 432x288 with 1 Axes>"
      ]
     },
     "metadata": {
      "needs_background": "light"
     },
     "output_type": "display_data"
    }
   ],
   "source": [
    "import numpy as np\n",
    "import math\n",
    "\n",
    "a = -0.5\n",
    "b = 1\n",
    "\n",
    "t0=0\n",
    "x0=0\n",
    "\n",
    "t, h = np.linspace(t0, 7, 100, retstep=True)  # Note the optional argument to get the stepsize.\n",
    "\n",
    "N=len(t)\n",
    "\n",
    "X=np.zeros(N)\n",
    "\n",
    "for i in range(len(t)):\n",
    "   X[i]= b/(a+2)*(np.exp(a*t[i])-np.exp(-2*t[i]))\n",
    "\n",
    "\n",
    "#matplotlib inline\n",
    "import matplotlib.pyplot as plt\n",
    "plt.plot(t, X)\n",
    "plt.xlabel('t')\n",
    "plt.ylabel('X')\n",
    "#plt.xlim([x.min(), x.max()])"
   ]
  },
  {
   "cell_type": "markdown",
   "metadata": {},
   "source": [
    "-   Finally, the overall response contains the zero-initial condition response and zero-input response. By addition of these two parts one can obtain the overall response of the system.\n",
    "\n"
   ]
  },
  {
   "cell_type": "code",
   "execution_count": 7,
   "metadata": {},
   "outputs": [
    {
     "data": {
      "text/plain": [
       "Text(0, 0.5, 'X')"
      ]
     },
     "execution_count": 7,
     "metadata": {},
     "output_type": "execute_result"
    },
    {
     "data": {
      "image/png": "[encoded data removed]",
      "text/plain": [
       "<Figure size 432x288 with 1 Axes>"
      ]
     },
     "metadata": {
      "needs_background": "light"
     },
     "output_type": "display_data"
    }
   ],
   "source": [
    "import numpy as np\n",
    "import math\n",
    "\n",
    "a = -0.5\n",
    "b = 1\n",
    "\n",
    "t0=0\n",
    "x0=1\n",
    "\n",
    "t, h = np.linspace(t0, 5, 5, retstep=True)  # Note the optional argument to get the stepsize.\n",
    "\n",
    "N=len(t)\n",
    "\n",
    "X=np.zeros(N)\n",
    "\n",
    "for i in range(len(t)):\n",
    "   X[i]= np.exp(a*t[i])+ b/(a+2)*(np.exp(a*t[i])-np.exp(-2*t[i]))\n",
    "\n",
    "\n",
    "#matplotlib inline\n",
    "import matplotlib.pyplot as plt\n",
    "plt.plot(t, X)\n",
    "plt.xlabel('t')\n",
    "plt.ylabel('X')\n",
    "#plt.xlim([x.min(), x.max()])"
   ]
  },
  {
   "cell_type": "markdown",
   "metadata": {},
   "source": [
    "-   In the previous section we consider the known well behaved exponential expression for the input. However, we might consider that the input is not given in the form of the exponential function and therefore, we need to perform numerical integration. We consider that the input is given by <span class=\"underline\">data</span> or <span class=\"underline\">by some other than exponential function of time</span>. \n",
    "    -   In particular, we can look at the expression for the input in the following form:\n",
    "\n",
    "$$x(t)=e^{at}\\int_{t_0}^te^{-a\\tau}u(\\tau)d\\tau =e^{at}A$$\n",
    "\n",
    "-   Hence the classical way to compute the area under the integral curve is to use the trapezoid method. It is known that the area of a trapezoid is $A = 0.5 * width * (x_{t_0} + x_{t})$, where $x_{t_0}=e^{-at_0}u(t_0)$ and $x(t)=e^{-at}u(t)$. In this example, we have four trapezoids to compute the areas of. We also specify $u(t)=sin(t)$\n",
    "\n",
    "-   To make this easier to compute, we need a few new ideas. First, it would be convenient to know how many elements are in the array `t`.\n",
    "\n"
   ]
  },
  {
   "cell_type": "code",
   "execution_count": 8,
   "metadata": {},
   "outputs": [
    {
     "data": {
      "text/plain": [
       "5"
      ]
     },
     "execution_count": 8,
     "metadata": {},
     "output_type": "execute_result"
    }
   ],
   "source": [
    "len(t)"
   ]
  },
  {
   "cell_type": "markdown",
   "metadata": {},
   "source": [
    "Second, we need to know how to compute the area of a trapezoid defined by the points in `t` and `x`. The area of the first trapezoid is defined by:\n",
    "\n"
   ]
  },
  {
   "cell_type": "code",
   "execution_count": 9,
   "metadata": {},
   "outputs": [
    {
     "data": {
      "text/plain": [
       "1.108085424235269"
      ]
     },
     "execution_count": 9,
     "metadata": {},
     "output_type": "execute_result"
    }
   ],
   "source": [
    "u=np.zeros(len(t))\n",
    "u[0]=np.sin(t[0])\n",
    "u[1]=np.sin(t[1])\n",
    "0.5 * (np.exp(-a*t[0])*u[0] + np.exp(-a*t[1])*u[1]) * (t[1] - t[0])"
   ]
  },
  {
   "cell_type": "markdown",
   "metadata": {},
   "source": [
    "-   What we would like to do is to loop over each trapezoid, compute the area, and accumulate it in a variable. Here is how we use a `for` loop to iterate from a value starting at 1 to the length of the array `t`. Note that although the length is 5, the last value of `i` is 4. The loop goes up to, but not including the last value of the range.\n",
    "\n"
   ]
  },
  {
   "cell_type": "code",
   "execution_count": 6,
   "metadata": {},
   "outputs": [
    {
     "name": "stdout",
     "output_type": "stream",
     "text": [
      "1\n",
      "2\n",
      "3\n",
      "4\n",
      "5\n",
      "6\n",
      "7\n",
      "8\n",
      "9\n"
     ]
    }
   ],
   "source": [
    "for i in range(1, len(t)):\n",
    "    print(i)"
   ]
  },
  {
   "cell_type": "code",
   "execution_count": 5,
   "metadata": {},
   "outputs": [
    {
     "data": {
      "text/plain": [
       "0.031752757096061505"
      ]
     },
     "execution_count": 5,
     "metadata": {},
     "output_type": "execute_result"
    }
   ],
   "source": [
    "area = 0.0  # variable we will accumulate the area in\n",
    "\n",
    "\n",
    "for i in range(1, len(t)):\n",
    "    x1 = (np.exp(-a*t[i-1])*u[i-1])\n",
    "    x2 = (np.exp(-a*t[i])*u[i])\n",
    "    width = t[i] - t[i - 1]\n",
    "    area += 0.5 * width * (x1 + x2)  # increment the area variable\n",
    "\n",
    "area=area*np.exp(a*t[len(t)-1])\n",
    "\n",
    "area\n",
    "#print(f'The estimated area is {area}.')\n",
    "#print(f'The exact area is {1 / 3 * (x[-1]**3 - x[0]**3)}')"
   ]
  },
  {
   "cell_type": "markdown",
   "metadata": {},
   "source": [
    "-   The trapezoid method is an approximation of the integral. In this case the straight lines connecting the points *overestimate* the value of the function, and so the area under this curve is overestimated.\n",
    "    \n",
    "    **Exercise**: Increase the number of points slowly and see how the estimate converges to the exact value.\n",
    "\n"
   ]
  },
  {
   "cell_type": "markdown",
   "metadata": {},
   "source": [
    "### numpy.trapz\n",
    "\n"
   ]
  },
  {
   "cell_type": "markdown",
   "metadata": {},
   "source": [
    "-   It is somewhat tedious to write the loop above, making sure you get the indexing right, etc. The trapezoid method is defined in numpy. See the help for how to use it:\n",
    "\n"
   ]
  },
  {
   "cell_type": "code",
   "execution_count": 6,
   "metadata": {},
   "outputs": [
    {
     "data": {
      "text/plain": [
       "<function numpy.trapz(y, x=None, dx=1.0, axis=-1)>"
      ]
     },
     "execution_count": 6,
     "metadata": {},
     "output_type": "execute_result"
    }
   ],
   "source": [
    "np.trapz"
   ]
  },
  {
   "cell_type": "markdown",
   "metadata": {},
   "source": [
    "-   Now, we can perform the integration with just one line:\n",
    "\n"
   ]
  },
  {
   "cell_type": "code",
   "execution_count": 10,
   "metadata": {},
   "outputs": [
    {
     "name": "stdout",
     "output_type": "stream",
     "text": [
      "[  0.           0.93626355   2.02210181   2.45471773   1.1709918\n",
      "  -2.48526055  -7.75957565 -11.68208918  -9.37977921   3.60527556\n",
      "  26.9468482   50.83405133  54.74414433  14.39395876 -80.73989169]\n",
      "range(0, 3)\n",
      "[ 0.          0.23395639  0.68092254  1.02406391  1.02683262  0.63974196\n",
      "  0.01835429 -0.55711123 -0.8218091  -0.65786969 -0.1535101   0.43905277\n",
      "  0.82617737  0.81584285  0.41116735]\n"
     ]
    },
    {
     "data": {
      "text/plain": [
       "Text(0, 0.5, 'F')"
      ]
     },
     "execution_count": 10,
     "metadata": {},
     "output_type": "execute_result"
    },
    {
     "data": {
      "image/png": "[encoded data removed]",
      "text/plain": [
       "<Figure size 432x288 with 1 Axes>"
      ]
     },
     "metadata": {},
     "output_type": "display_data"
    }
   ],
   "source": [
    "import numpy as np\n",
    "t = np.linspace(0, 10, 15)\n",
    "x = np.exp(-a*t)*np.sin(t)\n",
    "(len(t))\n",
    "A=np.zeros(len(t))\n",
    "F=np.zeros(len(t))\n",
    "\n",
    "print(x)\n",
    "print(range(3))\n",
    "for i in range(2,len(t)+1):\n",
    "    #print(x[0:i])\n",
    "    A[i-1]=np.trapz(x[0:i],t[0:i])\n",
    " \n",
    "for i in range(len(A)):\n",
    "    F[i]=A[i]*np.exp(a*t[i])\n",
    "    \n",
    "    \n",
    "print(F)\n",
    "#matplotlib inline\n",
    "import matplotlib.pyplot as plt\n",
    "plt.xkcd()\n",
    "plt.plot(t, F)\n",
    "plt.xlabel('t')\n",
    "plt.ylabel('F')\n",
    "#plt.xlim([x.min(), x.max()])"
   ]
  },
  {
   "cell_type": "markdown",
   "metadata": {},
   "source": [
    "-   The trapezoid method is only exact for subintegral function which are lines. For everything else, it is an approximation. For functions (or regions) that are concave up, the trapezoid method will over-estimate the integral, and for regions that are concave down, the method will underestimate the true integral.\n",
    "\n"
   ]
  },
  {
   "cell_type": "markdown",
   "metadata": {},
   "source": [
    "## Systems of Linear Differential Equations\n",
    "\n"
   ]
  },
  {
   "cell_type": "markdown",
   "metadata": {},
   "source": [
    "-   The above content  demonstrates how one can find the solution to the forced (e.g. `input is present`) scalar differential equation by analytic and numerical methods. However, in many cases modeling framework leads to the system of differential equations and therefore one wants to examine the associated procedure when it comes to obtaining the solution. Hence, for the system we have the following representation:\n",
    "    \n",
    "    -   Let us consider a generalization of the system given by Eq.[eq1](#eq1). The state space representation is given in the vector and matrix forms, where the state vector $x(t)=\\left[x_1(t),x_2(t),\\cdots,x_n(t)\\right]'$ is the $1\\times n$ vector, the output vector $y(t)=\\left[y_1(t),y_2(t),\\cdots,y_m(t)\\right]'$ is the $1 \\times m$ vector, and the matrices *A,B,C,D* are of appropriate dimensions, while the input vector $u(t)$ is a scalar. Therefore, we have:\n",
    "    \n",
    "    $$\\begin{array}{c}\\dot{x}(t)=Ax(t)+Bu(t)\\label{eq6}\\tag{6}\\\\y(t)=Cx(t)+Du(t)\\end{array}$$\n",
    "    \n",
    "    -   The integral expression for the solution of the system of first order differential equations is given as:\n",
    "        \n",
    "        $$\\begin{array}{ccc}x(t)&=&e^{A(t-t_0)}x(t_0)+\\int_{t_0}^{t}e^{A(t-\\tau)}Bu(\\tau)d\\tau\\nonumber\\\\ y(t)&=&Cx(t)+Du(t)\\nonumber \\end{array}$$\n",
    "    \n",
    "    -   By the same argument of having time to be integrated from some initial time $t_0=0$ to current time $t$, we obtain:\n",
    "        \n",
    "        $$\\begin{array}{ccc} x(t)&=&e^{At}x(0)+\\int_{0}^{T}e^{A(t-\\tau)}Bu(\\tau) d\\tau \\nonumber\\\\ x(t)&=&\\Phi(t,0)x(0)+\\Gamma(t)u(t)\\nonumber \\end{array}$$\n",
    "    \n",
    "    where the matrices $\\Phi$ and $\\Gamma$ are given as:\n",
    "    \n",
    "    $$\\begin{array}{ccc} \\Phi(t,0)&=&e^{At}\\\\ \\Gamma(t)&=&\\int_{0}^{t}e^{A(t-\\tau)}Bu(\\tau)d\\tau \\end{array}$$\n",
    "    \n",
    "    -   As it can be seen from the above expressions the overall state response contains initial condition contribution associated with the so called **state transition matrix** $\\Phi(t,t_0)=e^{A(t-t_0)}$ and input contribution where input is convolved with the state transition matrix. Therefore, the calculation of the **matrix** $\\Phi(t,t_0)$ becomes central in solving the above system evolution.\n",
    "    \n",
    "    -   In order to calculate state transition matrix (which is exponential function), one can look at the series expansion expression which is the simplest possible way to compute the state transition matrix. Hence,\n",
    "    \n",
    "    $$\\begin{eqnarray}\\Phi=I+\\frac{AT}{1!}+\\frac{(AT)^2}{2!}+\\frac{(AT)^3}{3!}+\\cdots+\\frac{(A^iT^{i})}{(i)!}+\\label{psilabel}\\end{eqnarray}$$\n",
    "\n"
   ]
  },
  {
   "cell_type": "markdown",
   "metadata": {},
   "source": [
    "### *Example: Moving Cart-double integrator system*\n",
    "\n"
   ]
  },
  {
   "cell_type": "markdown",
   "metadata": {},
   "source": [
    "![img](./figuresCHE472/cart_fig_doubl_integrat.jpg)\n",
    "\n",
    "-   Consider a unidirectional moving cart frequently present in the process industry with mass $M$, and built-in motor that moves the cart by force $u(t)$. Under reasonable assumptions that elastic force is negligible and that the cart is moving without friction along the track, the Newton's Second law provides the expression $M\\ddot{x}=u(t)$, which is a double integrator system given by:\n",
    "    \n",
    "    $$\\begin{array}{ccc} \\dot{x}(t)&=&\\left[ \\begin{array}{cc} 0& 1\\\\0&0\\end{array}\\right]x(t)+\\left[ \\begin{array}{c} 0\\\\1\\end{array}\\right]u(t)\\nonumber\\\\ y(t)&=&\\left[1\\;\\;0\\right]x(t)\\nonumber \\end{array}$$\n",
    "\n",
    "-   In the case of the system without the presence of the force, one obtains the following solution for the linear system dynamics, where vector $x(t)=\\left[ x_1(t)\\;x_2(t)\\right]$, with $x_1(t)$ being position and $x_2(t)$ being velocity are physical states of the system:\n",
    "    \n",
    "    $$x(t)=e^{At}x(0)=\\Phi(t,0)x(0)$$\n",
    "\n",
    "and therefore the calculation of $\\Phi(t,0)$ is given as:\n",
    "\n",
    "$$\\begin{array}{ccc} \\Phi=e^{At}&=&I+\\frac{At}{1!}+\\frac{(A^2t^2)}{2!}+\\cdots=\\left[\\begin{array}{cc} 1& 0\\\\0& 1\\end{array}\\right]+\\left[ \\begin{array}{cc} 0& t\\\\0& 0\\end{array}\\right]+\\cdots=\\left[ \\begin{array}{cc} 1& t\\\\0& 1\\end{array}\\right]\\end{array}$$\n",
    "\n",
    "so the solution is given as:\n",
    "\n",
    "$$ \\left[\\begin{array}{c} x_1(t)\\\\x_2(t)\\end{array}\\right]= \\left[ \\begin{array}{cc} 1& t\\\\0& 1\\end{array}\\right] \\left[\\begin{array}{c} x_1(0)\\\\x_2(0)\\end{array}\\right] $$\n",
    "\n",
    "**Remark**: In general, if the matrix $A$ is given as a full matrix, we must calculate the entire series expansion, which is not feasible. Therefore, this procedure is applied only in the case when higher order terms in the above expression vanish.\n",
    "\n"
   ]
  },
  {
   "cell_type": "markdown",
   "metadata": {},
   "source": [
    "### *Example: DC electric motor model*\n",
    "\n"
   ]
  },
  {
   "cell_type": "markdown",
   "metadata": {},
   "source": [
    "-   An electric DC motor model admits the following continuous state-space description:\n",
    "    \n",
    "    $$\\begin{array}{ccc} \\dot{x}(t)&=&\\left[ \\begin{array}{cc} -1&0\\\\ 1&0\\end{array}\\right]x(t)+\\left[ \\begin{array}{c} 1\\\\0\\end{array}\\right]u(t)\\nonumber\\\\ y(t)&=&\\left[0\\;\\;1\\right]x(t)\\nonumber \\end{array}$$\n",
    "    \n",
    "    The Laplace transform method gives, $\\Phi$ by using Laplace transform, $\\Phi=e^{At}={\\cal L}^{-1}\\left\\{(sI-A)^{-1}\\right\\}$, so once obtains:\n",
    "    \n",
    "    $$\\begin{array}{ccc} (sI-A)^{-1}&=&\\left[ \\begin{array}{cc} s+1 & 0\\\\-1 &s \\end{array}\\right]^{-1}=\\frac{1}{s(s+1)}\\left[ \\begin{array}{cc} s & 0 \\\\1& s+1\\end{array}\\right]=\\left[ \\begin{array}{cc} \\frac{1}{s+1}& 0 \\\\\\frac{1}{s(s+1)}& \\frac{1}{s}\\end{array}\\right]\\nonumber \\end{array}$$\n",
    "    \n",
    "    $$\\begin{array}{ccc}\\Phi&=&e^{At}={\\cal L}^{-1}\\left\\{(sI-A)^{-1}\\right\\}=\\left[ \\begin{array}{cc}e^{-t}& 0\\\\\\ 1-e^{-t}& 1\\end{array}\\right]\\end{array}$$\n",
    "    \n",
    "    Hence, the system response can be written as:\n",
    "    \n",
    "    $$ \\left[\\begin{array}{c} x_1(t)\\\\x_2(t)\\end{array}\\right] = \\left[ \\begin{array}{cc}e^{-t}& 0\\\\\\ 1-e^{-t}& 1\\end{array}\\right] \\left[\\begin{array}{c} x_1(0)\\\\x_2(0)\\end{array}\\right] +\\left[ \\begin{array}{cc}e^{-t}& 0\\\\\\ 1-e^{-t}& 1\\end{array} \\right] \\int_0^t \\left[\\begin{array}{cc}e^{\\tau}& 0\\\\\\ 1-e^{\\tau}& 1\\end{array}\\right] \\left[\\begin{array}{c}1 \\\\0\\end{array}\\right]u(\\tau)d\\tau $$\n",
    "    \n",
    "    so that \n",
    "    \n",
    "    $$ \\left[\\begin{array}{c} x_1(t)\\\\x_2(t)\\end{array}\\right] = \\left[ \\begin{array}{cc}e^{-t}& 0\\\\\\ 1-e^{-t}& 1\\end{array}\\right] \\left[\\begin{array}{c} x_1(0)\\\\x_2(0)\\end{array}\\right] +\\left[ \\begin{array}{cc}e^{-t}& 0\\\\\\ 1-e^{-t}& 1\\end{array} \\right] \\int_0^t\\left[\\begin{array}{c} e^{\\tau}u(\\tau)\\\\ (1-e^{\\tau})u(\\tau) \\end{array}\\right]d\\tau $$\n",
    "    \n",
    "    Finally, we learned how to integrate any input contribution in the overall response of the system to the input function $u(t)$.\n",
    "\n"
   ]
  },
  {
   "cell_type": "markdown",
   "metadata": {},
   "source": [
    "## Summary\n",
    "\n"
   ]
  },
  {
   "cell_type": "markdown",
   "metadata": {},
   "source": [
    "-   We explored a linear analytic methods of finding a solution to the linear system and we also provided numerical solution to the forced system response with the most general input setting\n",
    "    -   We provide some examples of finding state transition matrix and how to calculate input and state response contribution\n",
    "\n"
   ]
  }
 ],
 "metadata": {
  "kernelspec": {
   "display_name": "Python 3",
   "language": "python",
   "name": "python3"
  },
  "language_info": {
   "codemirror_mode": {
    "name": "ipython",
    "version": 3
   },
   "file_extension": ".py",
   "mimetype": "text/x-python",
   "name": "python",
   "nbconvert_exporter": "python",
   "pygments_lexer": "ipython3",
   "version": "3.7.3"
  },
  "org": {
   "KEYWORDS": "Linear scalar system, Linear Systems"
  }
 },
 "nbformat": 4,
 "nbformat_minor": 1
}
