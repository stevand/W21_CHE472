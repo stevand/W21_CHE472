{
 "cells": [
  {
   "cell_type": "markdown",
   "metadata": {},
   "source": [
    "- KEYWORDS: integration\n"
   ]
  },
  {
   "cell_type": "code",
   "execution_count": 1,
   "metadata": {},
   "outputs": [
    {
     "name": "stdout",
     "output_type": "stream",
     "text": [
      "# Out[0]:"
     ]
    }
   ],
   "source": []
  },
  {
   "cell_type": "markdown",
   "metadata": {},
   "source": [
    "## Models of lumped parameter systems\n",
    "\n"
   ]
  },
  {
   "cell_type": "markdown",
   "metadata": {},
   "source": [
    "-   The previous section introduced to us the simple model of **batch reactor**, so that the entire reactor volume is consider as volume element and due to the assumption of well stirring the simple equation leads to the integral balance \n",
    "    \n",
    "    $$ \\frac{d}{dt} \\int_W C_j dV=\\int_W R_j dV $$\n",
    "    \n",
    "    Hence, since reactor is charged with reactant at $t=0$ and nothing is added nor removed from the reactor until the reaction is stopped, so the inflow and outflow are zero. These assumptions lead to the general batch reactor equations\n",
    "    \n",
    "    $$\\frac{d}{dt}(C_jW)=R_jW $$\n",
    "    \n",
    "    so this equation is applicable in the case of change of the volume of reactor or/and constant volume conditions (liquid solution reactions). Hence, for special case of liquid system\n",
    "    \n",
    "    $$\\frac{dC_j}{dt}=R_j$$\n",
    "    \n",
    "    **Remark**: see the previous lecture for calculating conversion in the constant volume batch reactor\n",
    "\n"
   ]
  },
  {
   "cell_type": "markdown",
   "metadata": {},
   "source": [
    "### The continuous stirred tank reactor (CSTR)\n",
    "\n"
   ]
  },
  {
   "cell_type": "markdown",
   "metadata": {},
   "source": [
    "![img](./figuresCHE472/ditaa-cstr-system.png)\n",
    "\n",
    "-   The main assumption associated with the model representation of the well stirred reactor is that there are no concentration gradients in the reactor volume. In the same way as in the batch reactor, entire reactor volume is considered as controlled volume element. The feed exists $Q_f$ and outflow stream $Q$ so therefore, we have the following basic model written in the differential balance form as:\n",
    "    \n",
    "    $$\\frac{d(C_jW)}{dt}=Q_fC_{jf}-QC_j+R_j W $$\n",
    "    \n",
    "    for all $j$-species from $j=1,\\cdots,n$. If the reactor volume is constant and the volumetric flow rates are constant and identical, then the above expression reduces to the:\n",
    "    \n",
    "    $$\\frac{dC_j}{dt}=\\frac{1}{\\theta}(C_{jf}-C_j)+R_j$$\n",
    "    \n",
    "    so that $\\theta=\\frac{W}{Q_f}$ is called as **residence time** of the CSTR. Again, this refers to the constant density case, when the liquid-phase reactions are taking the place. The above equation admits the steady-state solution by setting the left side of equation to zero and hence conversion is defined at steady state as:\n",
    "    \n",
    "    $$x_f=\\frac{Q_fC_{jf}-QC_j }{Q_fC_{jf}}$$\n",
    "\n"
   ]
  },
  {
   "cell_type": "markdown",
   "metadata": {},
   "source": [
    "### The semi-batch reactor\n",
    "\n"
   ]
  },
  {
   "cell_type": "markdown",
   "metadata": {},
   "source": [
    "-   The semi-batch reactor is initially charged with reactants like batch reactor but allows a feed addition intake as the reaction takes place in the same manner as CSTR. Hence, without outflow the expression becomes:\n",
    "    \n",
    "    $$\\frac{d(C_jW)}{dt}=Q_{f}C_{jf}+R_jW $$\n",
    "    \n",
    "    Therefore, the semi-batch reactor provides more complete use of the reactor volume in reactions such as polymerization that converts lower density to higher density during the course of reaction\n",
    "\n"
   ]
  },
  {
   "cell_type": "markdown",
   "metadata": {},
   "source": [
    "### Volume change upon Reaction\n",
    "\n"
   ]
  },
  {
   "cell_type": "markdown",
   "metadata": {},
   "source": [
    "-   The assumption of constant density mixtures is useful for ideal-liquid mixtures in which the pure components have similar densities, and in general it is correct for ideal gas mixtures. Here, we establish the material balance as\n",
    "    \n",
    "    $$\\frac{d(C_jW)}{dt}=Q_fC_{jf}-QC_j+R_j W $$\n",
    "    \n",
    "    The above expression can be multiplied by the molecular weight of the species j and sum over all species to obtain \n",
    "    \n",
    "    $$\\frac{(\\sum_j C_j M_j W) }{dt}=Q_f\\sum_j C_{jf}M_f-Q\\sum_j C_jM_j+\\sum_jR_j M_j W$$\n",
    "    \n",
    "    so that term $\\sum_j C_jM_j$ is the mass density of the reactor contents which we denote as $\\rho$, hence we obtain the conservation of mass which leads to the \n",
    "    \n",
    "    $$\\frac{d(\\rho W)}{dt}=Q_f\\rho_f-Q\\rho$$\n",
    "    \n",
    "    which is clearly a total mass balance in which the total mass in reaction changes in time due to the inflow and outflow of mass and not due to the chemical reaction since the conservation of mass in the chemical reaction implies that $\\sum_j R_j M_j=0$\n",
    "    \n",
    "    -   Let us consider the equation of the state of the reacting mixture as $f(C_j)=0$, hence the simple derivation of the change of the equation of state yields \n",
    "        \n",
    "        $$\\frac{df}{dt}=\\sum_j \\frac{\\partial f}{\\partial C_j} \\frac{dC_j}{dt}=\\sum_j f_j\\frac{dC_j}{dt}=0 $$\n",
    "        \n",
    "        so that $f_j=\\frac{\\partial f}{\\partial C_j}$. Therefore, by differentiating the product term $C_jW$ we obtain\n",
    "        \n",
    "        $$W\\frac{dC_j}{dt}=\\frac{d(C_jW)}{dt}-C_j\\frac{dW}{dt}$$\n",
    "        \n",
    "        so by multiplying by $f_j$ and summing over j-index gives:\n",
    "        \n",
    "        $$W\\sum_j f_j \\frac{dC_j}{dt}=\\sum_j \\frac{d(C_jW)}{dt}-\\sum_j f_jC_j \\frac{dW}{dt}=0$$\n",
    "        \n",
    "        so by substituting the expressions we obtain:\n",
    "        \n",
    "        $$\\frac{dW}{dt}=\\frac{\\sum_j f_j(Q_fC_{jf}-QC_j+R_jW)}{\\sum_j f_j C_{j}}$$\n",
    "\n"
   ]
  },
  {
   "cell_type": "markdown",
   "metadata": {},
   "source": [
    "### Summary of mole balances for several ideal reactors\n",
    "\n"
   ]
  },
  {
   "cell_type": "markdown",
   "metadata": {},
   "source": [
    "| ||\n",
    "|---|---|\n",
    "| Batch|$\\frac{d(C_jW)}{dt}=R_jW$|\n",
    "| Batch Constant volume|$\\frac{dC_j}{dt}=R_j$|\n",
    "| CSTR|$\\frac{d(C_jW)}{dt}=Q_fC_{jf}-QC_j+R_jW$|\n",
    "| CSTR constant density|$\\frac{dC_j}{dt}=\\frac{1}{\\theta}(C_{jf}-C_j)+R_j$|\n",
    "| CSTR steady state|$C_j=C_{jf}+R_j\\theta$|\n",
    "| Semi-batch|$\\frac{d(C_jW)}{dt}=Q_fC_{jf}+R_jW$|\n",
    "| PFR   (x-1dimension)|$\\frac{\\partial C_j}{\\partial t}=-\\frac{\\partial (C_{j}Q)}{\\partial x}+R_j$|\n",
    "| PFR  steady state|$\\frac{d(C_jQ)}{dx}=R_J$|\n",
    "| ||\n",
    "\n"
   ]
  },
  {
   "cell_type": "markdown",
   "metadata": {},
   "source": [
    "### Exercise 4.18: (Chemical reactor analysis and design fundamentals, Rawlings & Ekerdt, Nob Hill Publishing)\n",
    "\n"
   ]
  },
  {
   "cell_type": "markdown",
   "metadata": {},
   "source": [
    "-   It is often easier to provide a correct explanation than it is to find the error in someone else's incorrect explanation. Consider the following situation from an instructor's point of view. A student in your class asks you to explain the following difficulty he/she is having. \"*I start with the continuity equation for species j.*\"\n",
    "    \n",
    "    $$\\frac{\\partial C_j}{\\partial t}+\\nabla\\cdot(C_jv)-R_j=0$$\n",
    "    \n",
    "    \"*Since this equation is true at all points in the volume element, I integrate it over the CSTR reactor volume element ( as depicted in figure above*\"\n",
    "    \n",
    "    $$\\int_W \\left[\\frac{\\partial C_j}{\\partial t}+\\nabla\\cdot(C_jv)-R_j\\right]dV=0$$\n",
    "    \n",
    "    \"*I then use the divergence theorem that we learned in the Transport Phenomena Course to convert the divergence term to a surface integral and obtain,*\"\n",
    "    \n",
    "    $$\\int_W \\left[\\frac{\\partial C_j}{\\partial t}-R_j\\right]dV +\\int_{\\partial W} C_j(v_j\\cdot n)dA=0$$\n",
    "    \n",
    "    \"*It is clear to me that the surface integral picks up the flux of species j into and out of the reactor with the flow streams*,\"\n",
    "    \n",
    "    $$\\int_{\\partial W} C_j(v_j\\cdot n)dA=-Q_fC_{jf}+QC_j $$\n",
    "    \n",
    "    \"*Substituting this into the equation above gives*\"\n",
    "    \n",
    "    $$\\int_W \\left[\\frac{\\partial C_j}{\\partial t}-R_j\\right]dV -Q_fC_{jf}+QC_j=0$$\n",
    "    \n",
    "    \"*Finally, since $C_j$ and $R_j$ don't vary over the well-mixed reactor, I simplify to*\"\n",
    "    \n",
    "    $$W \\frac{d C_j}{dt}=Q_fC_{jf}-QC_j+R_jW $$\n",
    "    \n",
    "    \"*But this doesn't agree with the equation for CSTR in the table above!*. How do you respond to this student? Remember, student does not really want to hear a restatement of why equation in the table is correct, student wants to know what is wrong with above derivation.\n",
    "\n"
   ]
  },
  {
   "cell_type": "markdown",
   "metadata": {},
   "source": [
    "## Models and solutions to the first-order differential equations by integration\n",
    "\n"
   ]
  },
  {
   "cell_type": "markdown",
   "metadata": {},
   "source": [
    "### Homogeneous, first-order linear differential equations\n",
    "\n"
   ]
  },
  {
   "cell_type": "markdown",
   "metadata": {},
   "source": [
    "-   First, we consider a homogeneous, first-order, linear differential equation with constant coefficients of the form:\n",
    "    \n",
    "    $$y' + a y = 0$$\n",
    "    \n",
    "    with $y(0) = b$ as an initial value.\n",
    "    \n",
    "    -   One can obtain a solution to this ODE as:\n",
    "    \n",
    "    $$y(\\xi) = b e^{-a\\xi}$$\n",
    "    \n",
    "    -   For concreteness, what is the value of $y(1)$?\n",
    "    \n",
    "    -   Now, we simply evaluate the above function at the desired value $\\xi$ value.\n",
    "\n"
   ]
  },
  {
   "cell_type": "code",
   "execution_count": 1,
   "metadata": {},
   "outputs": [
    {
     "name": "stdout",
     "output_type": "stream",
     "text": [
      "# Out[2]:"
     ]
    }
   ],
   "source": [
    "a = 1.\n",
    "b = 2.\n",
    "\n",
    "import numpy as np\n",
    "import sys\n",
    "\n",
    "xi = 1\n",
    "\n",
    "y_x1 = b * np.exp(-a*xi)\n",
    "\n",
    "print(sys.version)\n",
    "\n",
    "#print(f\"y(1) = {y_x1:1.3f}\")"
   ]
  },
  {
   "cell_type": "markdown",
   "metadata": {},
   "source": [
    "-   It is a little trickier to evaluate the solution at several $\\xi$-values, e.g. to make a plot. You cannot pass it a list of ranges to evaluate it several times, so we have to use a loop for this. Loops are useful and backbone of the programming, and we will solve the expression, and accumulate the result in a solution array. Before advance, there are a few useful commands we will need to use.\n",
    "    -   First, it is useful to make an array to store the results in (useful and recommended in coding). There are a several ways to do this, and one that is recommended is the `np.zeros` function. We are specifying the size of the array as an argument. For example, to make an array with five zeros, do this:\n",
    "\n"
   ]
  },
  {
   "cell_type": "code",
   "execution_count": 1,
   "metadata": {},
   "outputs": [
    {
     "name": "stdout",
     "output_type": "stream",
     "text": [
      "# Out[3]:\n",
      ": array([ 0.,  0.,  0.,  0.,  0.])"
     ]
    }
   ],
   "source": [
    "np.zeros(5)"
   ]
  },
  {
   "cell_type": "markdown",
   "metadata": {},
   "source": [
    "-   Second, it is helpful to get the shape of an array. You use dot notation (class in programming) and the shape attribute of an array for this. This allows you to create an array, and later make an array of zeros with the same shape and size.\n",
    "\n"
   ]
  },
  {
   "cell_type": "code",
   "execution_count": 1,
   "metadata": {},
   "outputs": [
    {
     "name": "stdout",
     "output_type": "stream",
     "text": [
      "# Out[4]:\n",
      ": (50,)"
     ]
    }
   ],
   "source": [
    "x = np.linspace(0, 3.5)\n",
    "x.shape"
   ]
  },
  {
   "cell_type": "markdown",
   "metadata": {},
   "source": [
    "-   At last, in each step we need to know the index of the element *and* the value of the element. `enumerate` provides this in a pretty straightforward syntax. This function iterates over an array and returns at each step the index and element, which you can assign to variables that you use inside the loop. There are other ways to achieve this, but we only consider this method today. Here, we create an array, and an array of zeros that is the same shape. Then, we iterate over the first array, and set the corresponding index in the second array equal to a computation using the index and element value.\n",
    "\n"
   ]
  },
  {
   "cell_type": "code",
   "execution_count": 12,
   "metadata": {},
   "outputs": [
    {
     "name": "stdout",
     "output_type": "stream",
     "text": [
      "Before the loop new_arr = [0. 0. 0. 0. 0.]\n",
      "The element at index 0 is 0.0\n",
      "The element at index 1 is 0.25\n",
      "The element at index 2 is 0.5\n",
      "The element at index 3 is 0.75\n",
      "The element at index 4 is 1.0\n",
      "After the loop new_arr = [0.   0.25 1.   2.25 4.  ]\n"
     ]
    }
   ],
   "source": [
    "arr = np.linspace(0, 1, 5)\n",
    "new_arr = np.zeros(arr.shape)\n",
    "print(f'Before the loop new_arr = {new_arr}')\n",
    "\n",
    "for i, val in enumerate(arr):\n",
    "    new_arr[i] = i * val\n",
    "    print(f'The element at index {i} is {val}')\n",
    "\n",
    "print(f'After the loop new_arr = {new_arr}')"
   ]
  },
  {
   "cell_type": "markdown",
   "metadata": {},
   "source": [
    "-   Back to the solution to our integration problem. Our goal is to compute the value of the solution for an array of $\\xi$-values. We will iterate over an array of $\\xi$-values, and for each one compute the value of the solution at that $\\xi$, and save the solution in a new array.\n",
    "\n"
   ]
  },
  {
   "cell_type": "code",
   "execution_count": 18,
   "metadata": {},
   "outputs": [
    {
     "data": {
      "text/plain": [
       "(0.0, 3.5)"
      ]
     },
     "execution_count": 18,
     "metadata": {},
     "output_type": "execute_result"
    },
    {
     "data": {
      "image/png": "[encoded data removed]",
      "text/plain": [
       "<Figure size 432x288 with 1 Axes>"
      ]
     },
     "metadata": {
      "needs_background": "light"
     },
     "output_type": "display_data"
    }
   ],
   "source": [
    "x = np.linspace(0, 3.5)\n",
    "y = np.zeros(x.shape)\n",
    "\n",
    "for i, x1 in enumerate(x):\n",
    "    y[i] = b*a* np.exp(-a*x1)\n",
    "\n",
    "%matplotlib inline\n",
    "import matplotlib.pyplot as plt\n",
    "plt.plot(x, y)\n",
    "plt.xlabel('\\u03BE') # this is expression for greek letter in python\n",
    "plt.ylabel('y')\n",
    "plt.xlim([x.min(), x.max()])"
   ]
  },
  {
   "cell_type": "markdown",
   "metadata": {},
   "source": [
    "-   We must ask, how can we tell that this is correct?  We can confirm by checking with the analytic solution and with the initial values, which we know that are correct.\n",
    "\n"
   ]
  },
  {
   "cell_type": "code",
   "execution_count": 14,
   "metadata": {},
   "outputs": [
    {
     "data": {
      "text/plain": [
       "(0.0, 2.0)"
      ]
     },
     "execution_count": 14,
     "metadata": {},
     "output_type": "execute_result"
    }
   ],
   "source": [
    "x[0], y[0]"
   ]
  },
  {
   "cell_type": "markdown",
   "metadata": {},
   "source": [
    "-   We can express the ODE as: $y' = -ay$. By inspection, we can see that the derivative will always be negative, so the solution should decrease from the initial value, which it does, see figure.\n",
    "    -   We can also examine the derivatives of our solution. We have to rely on numerical derivatives of our solution because $\\xi$ and $y$ are arrays. `np.gradient` will compute the derivative using a reasonable approximation. We know the derivative analytically from the ODE.\n",
    "\n"
   ]
  },
  {
   "cell_type": "code",
   "execution_count": 15,
   "metadata": {},
   "outputs": [
    {
     "data": {
      "text/plain": [
       "<matplotlib.legend.Legend at 0x11ebca438>"
      ]
     },
     "execution_count": 15,
     "metadata": {},
     "output_type": "execute_result"
    },
    {
     "data": {
      "image/png": "[encoded data removed]",
      "text/plain": [
       "<Figure size 432x288 with 1 Axes>"
      ]
     },
     "metadata": {
      "needs_background": "light"
     },
     "output_type": "display_data"
    }
   ],
   "source": [
    "dydx = np.gradient(y, x)\n",
    "\n",
    "plt.plot(x, dydx, label='numerical')\n",
    "plt.plot(x, -a * y, 'r--', label='analytical')\n",
    "plt.xlabel('x')\n",
    "plt.ylabel('dy/dx')\n",
    "plt.legend()"
   ]
  },
  {
   "cell_type": "markdown",
   "metadata": {},
   "source": [
    "-   Here you see good agreement over most of the range. The end-points are always less accurate because the derivatives there are approximated by a less accurate formula. We interpret the sum of this evidence to mean our solution to the ODE is good over this range of x values.\n",
    "\n"
   ]
  },
  {
   "cell_type": "markdown",
   "metadata": {},
   "source": [
    "## Numerical solutions to the system of differential equations\n",
    "\n"
   ]
  },
  {
   "cell_type": "markdown",
   "metadata": {},
   "source": [
    "-   We begin with a brief review of system of first order linear differential equations. The equations we are concerned with here all have the form:\n",
    "    \n",
    "    $$\\frac{dx}{dt} = Ax(t)+Bu(t)$$\n",
    "    \n",
    "    -   And the value of the solution is known at some point, e.g. $x_0(0) = $initial condition. $A$ is linear operator, and $u(t)$ is known driving force (or input) function and goal in this section is to motivate how numerical solutions are obtained.\n",
    "    \n",
    "    -   The basic idea behind these methods is that we know the initial value of the solution *and* the derivative of the solution (it is defined by the ODE definition above), and so we can estimate the solution a small distance away from the initial value. If you repeat this process with the newly estimated point, you can estimate the next point, and so on. There are many algorithms for performing the estimation, and we will consider a two of them. These algorithms differ in efficiency, ease of implementation, and accuracy.\n",
    "\n"
   ]
  },
  {
   "cell_type": "markdown",
   "metadata": {},
   "source": [
    "### Euler's method\n",
    "\n"
   ]
  },
  {
   "cell_type": "markdown",
   "metadata": {},
   "source": [
    "-   The main idea of Euler's method is that if you know the value of the solution at some point, and you know the derivative at that point, you can estimate the solution nearby at $t_0 + h$, where $h$ is a small number:\n",
    "    \n",
    "    $$x_{n+1} = x_n + h (A x_n+B u(nh)) $$\n",
    "    \n",
    "    Now, you just repeat this until you get to the t-value that you want. For concreteness, consider:\n",
    "    \n",
    "    $$x' = -x + e^{-t} ;\\; x_0(0) = 2$$\n",
    "    \n",
    "    -   This ODE has a known analytical solution: $x(t) = e^{-t}x_0 +1-e^{-t}$, with using $x_0=2$ as arbitrary point and we will use this for comparison.\n",
    "\n"
   ]
  },
  {
   "cell_type": "code",
   "execution_count": 30,
   "metadata": {},
   "outputs": [
    {
     "name": "stdout",
     "output_type": "stream",
     "text": [
      "h = 0.030612244897959183\n"
     ]
    }
   ],
   "source": [
    "import numpy as np\n",
    "import math\n",
    "\n",
    "def f(t, x):\n",
    "    return -x+math.exp(-t)\n",
    "\n",
    "t0 = 0\n",
    "x0 = 2\n",
    "\n",
    "t, h = np.linspace(t0, 1.5, 50, retstep=True)  # Note the optional argument to get the stepsize.\n",
    "print(f'h = {h}')\n",
    "\n",
    "x = np.zeros(t.shape)\n",
    "t[0] = t0\n",
    "x[0] = x0\n",
    "\n",
    "# Implementation of Euler's method\n",
    "for n in range(0, len(t) - 1):\n",
    "    x[n + 1] = x[n] + f(t[n],x[n]) * h"
   ]
  },
  {
   "cell_type": "markdown",
   "metadata": {},
   "source": [
    "-   We can check out the solution graphically:\n",
    "\n"
   ]
  },
  {
   "cell_type": "code",
   "execution_count": 31,
   "metadata": {},
   "outputs": [
    {
     "data": {
      "text/plain": [
       "<matplotlib.legend.Legend at 0x11e9f1f28>"
      ]
     },
     "execution_count": 31,
     "metadata": {},
     "output_type": "execute_result"
    },
    {
     "data": {
      "image/png": "[encoded data removed]",
      "text/plain": [
       "<Figure size 432x288 with 1 Axes>"
      ]
     },
     "metadata": {
      "needs_background": "light"
     },
     "output_type": "display_data"
    }
   ],
   "source": [
    "%matplotlib inline\n",
    "import matplotlib.pyplot as plt\n",
    "plt.plot(t, x, label='Euler')\n",
    "plt.plot(t, x0*np.exp(-t) + 1-np.exp(-t), 'r--', label='Analytical')\n",
    "plt.xlabel('x')\n",
    "plt.ylabel('y')\n",
    "plt.legend()"
   ]
  },
  {
   "cell_type": "markdown",
   "metadata": {},
   "source": [
    "-   This solution does not look that good until you increase the number of points (i.e. decrease the value of $h$, significantly). It is known the error decreases only linearly with $h$.\n",
    "\n"
   ]
  },
  {
   "cell_type": "markdown",
   "metadata": {},
   "source": [
    "### *Exercise* Increase the number of points in the t array and see how it affects the solution.\n",
    "\n"
   ]
  },
  {
   "cell_type": "markdown",
   "metadata": {},
   "source": [
    "-   This method is not used in practice since it is not very accurate but will serve as good way to integrate linear systems, and you need quite small $h$ to get a good solution. It is used here to illustrate the idea of how one integrates a differential equation. For the higher accuracy we can consider the fourth-order Runge-Kutta method.\n",
    "\n"
   ]
  },
  {
   "cell_type": "markdown",
   "metadata": {},
   "source": [
    "## Summary\n",
    "\n"
   ]
  },
  {
   "cell_type": "markdown",
   "metadata": {},
   "source": [
    "-   We learned how to model basic molar balance for the set of different distributed and lumped parameter models\n",
    "    -   We learned how to solve different types of first-order linear differential equations. Linear equations can be solved by integration.\n",
    "    -   Simple integration of differential equation\n",
    "\n"
   ]
  }
 ],
 "metadata": {
  "kernelspec": {
   "display_name": "Python 3",
   "language": "python",
   "name": "python3"
  },
  "language_info": {
   "codemirror_mode": {
    "name": "ipython",
    "version": 3
   },
   "file_extension": ".py",
   "mimetype": "text/x-python",
   "name": "python",
   "nbconvert_exporter": "python",
   "pygments_lexer": "ipython3",
   "version": "3.7.7"
  },
  "org": {
   "KEYWORDS": "integration"
  },
  "toc": {
   "base_numbering": 1,
   "nav_menu": {},
   "number_sections": false,
   "sideBar": false,
   "skip_h1_title": false,
   "title_cell": "Table of Contents",
   "title_sidebar": "Contents",
   "toc_cell": false,
   "toc_position": {},
   "toc_section_display": false,
   "toc_window_display": false
  }
 },
 "nbformat": 4,
 "nbformat_minor": 1
}
