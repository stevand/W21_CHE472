{
 "cells": [
  {
   "cell_type": "markdown",
   "metadata": {},
   "source": [
    "- KEYWORDS: Physical Systems\n"
   ]
  },
  {
   "cell_type": "markdown",
   "metadata": {},
   "source": [
    "## Modeling Process Dynamics - Introduction\n",
    "\n"
   ]
  },
  {
   "cell_type": "code",
   "execution_count": 1,
   "metadata": {},
   "outputs": [
    {
     "name": "stdout",
     "output_type": "stream",
     "text": [
      "# Out[0]:"
     ]
    }
   ],
   "source": []
  },
  {
   "cell_type": "markdown",
   "metadata": {},
   "source": [
    "#### Integral balances                                               :B_block:\n",
    "\n"
   ]
  },
  {
   "cell_type": "markdown",
   "metadata": {},
   "source": [
    "-   We develop basic equations of transport phenomena which are derived from the well known <span class=\"underline\">conservation laws of mass, momentum and energy</span> \n",
    "    -   Let us consider the physical system as fluid being in the region **D** (two or three dimensional space). We denote by $x\\in$ **D** to be a point in the fluid and consider a particle of fluid moving through $x$ at time t (imagine a dust particle suspended in fluid). This particle travels in the fluid and  trasverse a well define trajectory, with velocity **$u(x,t)$**, therefore for each fixed time , the vector **$u$** is a vector field on **D**, and **u(x,t)** is a spatial velocity field of fluid.\n",
    "    -   We assume that the fluid has a well-defined a mass density $\\rho(x,t)$, thus, if the subregion of **D** is defined as W, then the **mass** <span class=\"underline\">of the fluid in the subregion</span> W is given by:\n",
    "        \n",
    "        $$m(W,t)=\\int_W \\rho(x,t)dV$$\n",
    "        \n",
    "        where $dV$ is a volume element in the space inside a region **D**.\n",
    "    -   We assume that functions **u** and **$\\rho$** are smooth enough and continuous (this can be criticized). The assupmtion that **$\\rho$** exists is a **continuum assumption**.\n",
    "\n",
    "![img](./figuresCHE472/ChorinMarsden.jpg \"Control volume\")\n",
    "\n"
   ]
  },
  {
   "cell_type": "markdown",
   "metadata": {},
   "source": [
    "#### Conservation of mass\n",
    "\n"
   ]
  },
  {
   "cell_type": "markdown",
   "metadata": {},
   "source": [
    "-   The rate of change of mass in W subregion is:\n",
    "    \n",
    "    $$\\frac{d}{dt}m(W,t)=\\frac{d}{dt}\\int_W\\rho(x,t)dV=\\int_W\\frac{\\partial \\rho}{\\partial t}(x,t) dV$$\n",
    "    \n",
    "    -   Let $\\partial W$ denote a boundary of W and let  **n** denote the unit outward normal defined at point of $\\partial W$, and let $dA$ denote the area element on $\\partial W$. The volume flow rate across $\\partial W$ per unit are is **u$\\cdot n$** and the mass flow rate per unit area is **$\\rho u\\cdot n$**\n",
    "        \n",
    "        ![img](./figuresCHE472/ChorinMarsden1.jpg \"The mass crossing the boundary\")\n",
    "    \n",
    "    -   Hence, the conservation of the mass can be formulated as the rate of increase of mass in W is equal the rate at which mass is crossing $\\partial W$ in the inward direction: or\n",
    "    \n",
    "    $$\\frac{d}{dt}\\int_W \\rho dV=-\\int_{\\partial W} \\rho u\\cdot n dA$$\n",
    "    \n",
    "    -   This is an integral form of **the law of conservation of mass**. The another form become available upon applying divergence theorem, and hence:\n",
    "    \n",
    "    $$\\int_W \\left[\\frac{\\partial \\rho}{\\partial t}+div(\\rho u)\\right] dV=0$$ \n",
    "    \n",
    "    -   The underlying integral hold for entire **W** and it is equivalent to differential form\n",
    "    \n",
    "    $$\\frac{\\partial \\rho }{\\partial t} + div(\\rho u)=0$$\n",
    "    \n",
    "    which is the well known differential form of the law of conservation of mass, and also known as **continuty equation**. The expression $div(\\rho u)$ is divergence of $\\rho u$, more on divergence you can find in [https://en.wikipedia.org/wiki/Divergence](https://en.wikipedia.org/wiki/Divergence).\n",
    "    **Remark:** The divergence of the vector field is given as the dot product of the vector field and the $\\nabla$ operator. Therefore, for any vector field $a(x,y,z)$ we write:\n",
    "    \n",
    "    $$ div(a)= \\nabla \\cdot a= \\frac{\\partial a}{\\partial x}+\\frac{\\partial a}{\\partial y}+\\frac{\\partial a}{\\partial z}$$\n",
    "    \n",
    "    and hence we note that the $div(a)$ is a scalar.\n",
    "\n"
   ]
  },
  {
   "cell_type": "markdown",
   "metadata": {},
   "source": [
    "#### Balance of Momentum\n",
    "\n"
   ]
  },
  {
   "cell_type": "markdown",
   "metadata": {},
   "source": [
    "-   Let the **$\\textbf{x(t)}$**$=\\left\\{x(t),y(t),z(t)\\right\\}$ be a path followed by a fluid particle, so that the velocity is given as\n",
    "    \n",
    "    $$\\textbf{u}(x(t),y(t),z(t),t)=\\frac{d\\textbf{x}}{dt}(t)$$\n",
    "    \n",
    "    then the acceleration of the fluid particle is given as \n",
    "    \n",
    "    $$\\textbf{a}(t)=\\frac{d^2}{dt^2}\\textbf{x}(t)=\\frac{d}{dt}\\textbf{u}(x(t),y(t),z(t),t)$$\n",
    "    \n",
    "    hence by the chainn rule and using the notation $u_x=\\frac{\\partial{u}}{\\partial x}$,$u_y=\\frac{\\partial{u}}{\\partial y}$,$u_z=\\frac{\\partial{u}}{\\partial z}$, $u_t=\\frac{\\partial{u}}{\\partial t}$, one obtains that\n",
    "    \n",
    "    $$a(t)=\\partial_t\\textbf{u}+\\textbf{u}\\cdot\\nabla \\textbf{u}$$\n",
    "    \n",
    "    therefore the expression $\\partial_t=\\frac{\\partial{\\textbf{u}}}{\\partial t}$ and$\\textbf{u}\\cdot\\nabla=u_x\\frac{\\partial }{\\partial x}+u_y\\frac{\\partial}{\\partial y}+u_z\\frac{\\partial}{\\partial z}$ we denote:\n",
    "    \n",
    "    $$\\frac{D}{Dt}=\\partial_t+\\textbf{u}\\cdot\\nabla$$\n",
    "    \n",
    "    and call as **material derivative**, which takes into account the fact that material of the fluid is moving and that the position of fluid particles change with time. \n",
    "    \n",
    "    -   Hence, for any function $f(x,y,z,t)$ which describes fluid characteristics, by the chain rule it holds:\n",
    "    \n",
    "    $$\\frac{d}{dt}f(x,y,z,t)=\\partial_tf+\\textbf{u}\\cdot \\nabla f=\\frac{Df}{Dt}$$\n",
    "    \n",
    "    -   In general for any continuum, forces acting on the piece of material are of two kind:\n",
    "        -   **stress forces** whereby the piece of material is acted on by forces across its surface by the rest of the continuum\n",
    "        -   **body forces** (external) such as gravity or a magnetic field which exert a force per unit volume of continuum\n",
    "    \n",
    "    -   Therefore, we define an ideal fluid as one with the following property: For any motion of the fluid there is a function $p(x,t)$ called the pressure such that S is a surface in the fluid with a chosen unit normal **n**, and the force of stress exerted across the surface S per unit area at **$x\\in S$** at time t is $p(x,t)n$; Hence, that is \n",
    "        \n",
    "        $$force \\;across \\;S\\;per \\;unit\\;area=p(x,t)n$$\n",
    "        \n",
    "        **Remark**: as it is shown in the figure below the force is in the direction $n$ and act orthogonally to the surface S, so there are no tangential components of the force. Hence, the absence of the tangential forces implies that there is no way for rotation of ideal fluid to happen, nor it can start nor it can stop if it is present at beginning. This is to some extent not acceptable since the real fluid usually exhibit rotation.\n",
    "    \n",
    "    ![img](./figuresCHE472/ChorinMarsden2.jpg \"The pressure force across the boundary\")\n",
    "    \n",
    "    -   If W is a region in the fluid at a particular instant of time t, the total force excerted on the fluid inside W by means of stress on its boundary is\n",
    "    \n",
    "    $$S_{\\partial W}=\\left\\{force\\;on\\;W\\right\\}=-\\int_{\\partial W}pndA$$ \n",
    "    \n",
    "    (the negative sign is because **n** points outward). If **e** is any given fixed vector in the space, the divergence theorem gives\n",
    "    \n",
    "    $$\\textbf{e}\\cdot\\textbf{S}_{\\partial W}=-\\int_{\\partial W} p\\textbf{e}\\cdot n dA=-\\int_W(grad p)\\cdot \\textbf{e}dV$$\n",
    "    \n",
    "    in the same vein, if **$b(x,t)$** denotes the given body force per unit mass, the total body force per W is given as $B=\\int_W\\rho \\textbf{b}dV$. Finally, by the Newton's second law (force=mass$\\times$acceleration) we obtain the differential form of the law of balance of momentum:\n",
    "    \n",
    "    $$\\rho \\frac{Du}{Dt}=-gradp+\\rho \\textbf{b}$$\n",
    "\n"
   ]
  },
  {
   "cell_type": "markdown",
   "metadata": {},
   "source": [
    "#### Raynolds Transport Theorem\n",
    "\n"
   ]
  },
  {
   "cell_type": "markdown",
   "metadata": {},
   "source": [
    "-   For any function $f$ of **x** and t, we have \n",
    "    \n",
    "    $$\\frac{d}{dt}\\int_{W_t}\\rho fdV=\\int_{W_t}\\rho \\frac{Df}{Dt}dV$$\n",
    "    \n",
    "    -   In a similar way one can derive a form of a transport theorem without a mass density factor, and this is a form of celebrated **Raynolds Transport Theorem:**\n",
    "    \n",
    "    $$\\frac{d}{dt}\\int_{W_t}f dV=\\int_{W_t}\\left(\\frac{\\partial f}{\\partial t} + div(f\\textbf{u})\\right)dV$$\n",
    "\n"
   ]
  },
  {
   "cell_type": "markdown",
   "metadata": {},
   "source": [
    "#### Exercise: Incompressible Flow\n",
    "\n"
   ]
  },
  {
   "cell_type": "markdown",
   "metadata": {},
   "source": [
    "-   In the terms of the fluid flow models if for any subregion W and hence $W_t$ we have a constant volume\n",
    "    \n",
    "    $$volume(W_t)=\\int_{W_t}dV= constant\\;in\\;time$$\n",
    "    \n",
    "    therefore, the incompressibility from the Raynolds transport theorem is equal to \n",
    "    \n",
    "    $$0=\\frac{d}{dt}\\int_{W_t} dV=\\int_{W_t}(div\\;u)dV$$\n",
    "    so that the fact the fluid is incompressible is also given as $div\\;u=0$.\n",
    "\n"
   ]
  },
  {
   "cell_type": "markdown",
   "metadata": {},
   "source": [
    "#### Exercise: The Plug-Flow Reactor (PFR)\n",
    "\n"
   ]
  },
  {
   "cell_type": "markdown",
   "metadata": {},
   "source": [
    "![img](./figuresCHE472/fig2-PFR.jpg \"Control volume\")\n",
    "\n",
    "-   We can apply directly raynolds transport theorem which is augmented for the reaction term, so that if the transported property is concentration (that is, $f=C_a$):\n",
    "    \n",
    "    $$\\int_{W_t}\\left(\\frac{\\partial C_a}{\\partial t} + div(C_a\\textbf{u})\\right)dV=\\int_{W_t}R_{C_a}dV$$\n",
    "    \n",
    "    then by the assumption that the control volume is not changing over the time (incompressible flow - does not hold for gases), and only one spatial x-direction is considered (that is **u** =$u_x$), then the following is obtained:\n",
    "    \n",
    "    $$\\frac{\\partial C_a}{\\partial t} + u_xdiv(C_a)+C_adiv(u_x)=R_{C_a}$$ \n",
    "    \n",
    "    which with assumption of incompressibility ($div(u_x)=0$) becomes well known expression for the model of hyperbolic transport system: \n",
    "    \n",
    "    $$\\frac{\\partial C_a}{\\partial t}=-u_x\\frac{\\partial C_a}{\\partial x}+R_{C_a}$$ \n",
    "    \n",
    "    Last but not least, this model accounts for the boundary conditions in the form $C_a(0,t)=C_{ain}(t)$.\n",
    "\n"
   ]
  },
  {
   "cell_type": "markdown",
   "metadata": {},
   "source": [
    "#### Exercise: The heated slab\n",
    "\n"
   ]
  },
  {
   "cell_type": "markdown",
   "metadata": {},
   "source": [
    "-   We consider another model of conservative law which considers heat transfer. Namely, we look at the heated slab at the figure below and the slab is heated by the heat flux from the left.\n",
    "    \n",
    "    ![img](./figuresCHE472/slab.jpg \"Temperature in the slab\")\n",
    "    \n",
    "    -   The underlying equations of the transport process considers the following form: \n",
    "        \n",
    "        $$\\frac{d}{dt}\\int_{W_t}\\rho\\epsilon dV+\\int_{W_t} div(q)dV=0$$\n",
    "        \n",
    "        which becomes \n",
    "        \n",
    "        $$\\rho \\dot{\\epsilon} + div(q)=0$$\n",
    "        \n",
    "        where $\\epsilon $ is specific internal energy. In order to link energy and temperature, we invoke so called <span class=\"underline\">constitutive equations</span> (phenomenological equations) which are known as laws of Fourier and Navier-Stokes.\n",
    "    -   Therefore, the Fourier's law is \n",
    "        $$q=-\\kappa \\frac{\\partial T}{\\partial x}$$\n",
    "        which is substituted in the above expression and leads to the following expression for the constant density continuum at rest as:\n",
    "        $$\\rho \\epsilon_T \\frac{\\partial T}{\\partial t}=\\kappa\\frac{\\partial^2 T}{\\partial x^2}$$\n",
    "        which is standard expression for the conduction equation of the parabolic type.\n",
    "\n"
   ]
  },
  {
   "cell_type": "markdown",
   "metadata": {},
   "source": [
    "## Lumped Parameter Systems Modeling\n",
    "\n"
   ]
  },
  {
   "cell_type": "markdown",
   "metadata": {},
   "source": [
    "-   The above analysis considered a rigorous representation of the fluid flow element or continuum. However, sometimes we cannot accomplish such a detailed modeling and the application aspects to some extent may allowed that distributed parameter systems are modeled as lumped parameter systems. In particular, if we consider the reactor of the constant volume with the inlet and outlet mass flow rates $M_f$ and $M_o$, with total energies $E_f$ and $E_o$, with additional added  heat to the system $\\dot{Q}$ and work $\\dot{W}$ done on the system.\n",
    "\n",
    "![img](./figuresCHE472/ditaa-cstr_model.png)\n",
    "\n",
    "-   In terms of the defined variables and energy conservation the following is written as:\n",
    "    \n",
    "    $$\\frac{dE}{dt}=M_fE_f-M_0E_o+\\dot{Q}+\\dot{W}$$\n",
    "    \n",
    "    the total energy and work can be composed of many factors. For example, work can be by flow stream, shaft work and boundary work, however in majority of applications the appropriate assumptions may lead to annihilation of some terms. When it comes to energy, it is complex since energy may contain kinetic, potential, internal components, so in majority of cases only internal energy is considered (that is, $E=U$) in the form of enthalpy (dH=dU+PdV+VdP). Hence, if we consider:\n",
    "    \n",
    "    -   The Batch reactor with constant-pressure (incompressible fluid)\n",
    "        $$\\frac{dH}{dt}=\\dot{Q}$$\n",
    "        for the *single phase systems*, the enthalpy is function of temperature, pressure, and number of moles and therefore can be expressed as:\n",
    "        $$dH=(\\frac{\\partial H}{\\partial T})dT+(\\frac{\\partial H}{\\partial P})dP+\\sum_{j=1}(\\frac{\\partial H}{\\partial n_j})dn_j$$\n",
    "        hence we obtain\n",
    "        $$Vr\\rho Cp\\frac{dT}{dt}+\\sum_{j=1}H_j\\frac{dn_j}{dt}=\\dot{Q}$$\n",
    "        From the material balance we know\n",
    "        $$\\frac{dn_j}{dt}=RjVr$$\n",
    "        then final expression becomes \n",
    "        $$Vr \\rho Cp \\frac{dT}{dt}=-\\sum_{j=1}\\triangle Hr_j Vr+\\dot{Q}$$\n",
    "    \n",
    "    -   As it can be expected the complexity of energy expression and its reduction to intensive property that is temperature in this case includes the conservation and  thermodynamics laws.\n",
    "\n"
   ]
  },
  {
   "cell_type": "markdown",
   "metadata": {},
   "source": [
    "### Example: Liquid-phase batch-reactor\n",
    "\n"
   ]
  },
  {
   "cell_type": "markdown",
   "metadata": {},
   "source": [
    "-   The exothermic reaction takes place in the liquid phase is:\n",
    "    \n",
    "    $$A+B\\rightarrow C,\\;\\;r=kc_ac_b$$\n",
    "    \n",
    "    batch reactor with a cooling coil to keep the reactor isothermal at $27^oC$. The reactor is initially charged with equal concentrations of A and B and no C, $C_{a0}=C_{b0}=2.0mol/L$. \n",
    "    \n",
    "    -   How long does it take to achieve 95% conversion?\n",
    "        Answer: assuming constant density the material balance for component A is \n",
    "        $$\\frac{dC_a}{dt}=-kC_aC_b$$\n",
    "        and stoichiometry of the reaction and material balance for B gives\n",
    "        $$C_a-C_b=C_{a0}-C_{b0}=0$$\n",
    "        substituting into the material balance for species A gives \n",
    "        $$\\frac{dC_a}{dt}=-kC_a^2$$\n",
    "        which after separation of variables and integration becomes \n",
    "        $$t=\\frac{1}{k}\\left[\\frac{1}{C_a}-\\frac{1}{C_{a0}}\\right]$$\n",
    "        substituting $C_a=0.05C_{a0}$ and the values for k and $C_{a0}$ gives t=551 min\n",
    "\n"
   ]
  },
  {
   "cell_type": "code",
   "execution_count": 1,
   "metadata": {},
   "outputs": [
    {
     "data": {
      "text/plain": [
       "[<matplotlib.lines.Line2D at 0x121ab0690>]"
      ]
     },
     "execution_count": 1,
     "metadata": {},
     "output_type": "execute_result"
    },
    {
     "data": {
      "image/png": "[encoded data removed]",
      "text/plain": [
       "<Figure size 432x288 with 1 Axes>"
      ]
     },
     "metadata": {
      "needs_background": "light"
     },
     "output_type": "display_data"
    }
   ],
   "source": [
    "import numpy as np\n",
    "\n",
    "k = 0.01725 #L/mol min Rate constant \n",
    "C_a0 = 3.0 # mol/ L\n",
    "\n",
    "t=np.linspace(0,560,100) # (start,stop,num points)\n",
    "Ca=np.zeros(len(t))\n",
    "Ca=1./(k*t+1/C_a0)  \n",
    "\n",
    "#matplotlib inline\n",
    "import matplotlib.pyplot as plt\n",
    "\n",
    "plt.plot(t,Ca,'r+')"
   ]
  },
  {
   "cell_type": "markdown",
   "metadata": {},
   "source": [
    "#### Summary\n",
    "\n"
   ]
  },
  {
   "cell_type": "markdown",
   "metadata": {},
   "source": [
    "You should be able\n",
    "\n",
    "-   to derive a continuity equation for the 1-dimensional transport of scalar property\n",
    "-   show that incompressible fluids have constant volume $W_t=\\int_{W_t}dV=constant\\;in\\;t$\n",
    "\n"
   ]
  }
 ],
 "metadata": {
  "kernelspec": {
   "display_name": "Python 3",
   "language": "python",
   "name": "python3"
  },
  "language_info": {
   "codemirror_mode": {
    "name": "ipython",
    "version": 3
   },
   "file_extension": ".py",
   "mimetype": "text/x-python",
   "name": "python",
   "nbconvert_exporter": "python",
   "pygments_lexer": "ipython3",
   "version": "3.7.7"
  },
  "org": {
   "KEYWORDS": "Physical Systems"
  },
  "toc": {
   "base_numbering": 1,
   "nav_menu": {},
   "number_sections": false,
   "sideBar": false,
   "skip_h1_title": false,
   "title_cell": "Table of Contents",
   "title_sidebar": "Contents",
   "toc_cell": false,
   "toc_position": {},
   "toc_section_display": false,
   "toc_window_display": false
  }
 },
 "nbformat": 4,
 "nbformat_minor": 1
}
