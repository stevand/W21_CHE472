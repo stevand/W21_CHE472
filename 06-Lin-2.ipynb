{
 "cells": [
  {
   "cell_type": "markdown",
   "metadata": {},
   "source": [
    "- KEYWORDS: Dynamic Models and Discrete Models\n"
   ]
  },
  {
   "cell_type": "markdown",
   "metadata": {},
   "source": [
    "## Basic Models in Chemical Engineering (static models)\n",
    "\n"
   ]
  },
  {
   "cell_type": "markdown",
   "metadata": {},
   "source": [
    "-   Continuous Stired Tank Reactor (CSTR) is the basic example in the chemical engineering practice. In the simple case of constant volume, and with consideration that the concentration species in the reactor is given by the vector of $C=[C_A,C_C,C_D]$, the monomolecular reactions that take place are given as, $A\\rightarrow C$ and $C\\rightarrow D$. These consecutive chemical reactions are characterized by the following reaction rates:\n",
    "\n",
    "$$r_1 = k_1 C_A$$\n",
    "$$r_2 = k_2 C_C$$\n",
    "\n",
    "-   Since the constant volume assumption is considered, and the volumetric flow rates $\\nu$ of inlet and outlet are constant, we can define a residence time as $\\tau=\\frac{V}{\\nu}$, so that at the `steady state` the following species mole balance becomes:\n",
    "\n",
    "$$0 = C_{A, feed} - C_A - \\tau k_1 C_A$$\n",
    "\n",
    "$$0 = C_{C, feed} - C_C + \\tau k_1 C_A - \\tau k_2 C_C$$\n",
    "\n",
    "$$0 = C_{D, feed} - C_D + \\tau k_2 C_C$$\n",
    "\n",
    "-   Hence, by considering that $\\mathbf{C} = [C_A, C_C, C_D]$ and that\n",
    "\n",
    "$$\\mathbf{A} = \\left[\\begin{array}{ccc} 1 + \\tau k_1 & 0 & 0 \\\\ -\\tau k_1 & 1 +\\tau k_2 & 0 \\\\ 0 & -\\tau k_2 & 1 \\end{array}\\right]$$\n",
    "\n",
    "and we also have that  $\\mathbf{C_{feed}} = [C_{A,feed}, C_{C, feed}, C_{D, feed}]$, so that the following holds:\n",
    "\n",
    "$$\\mathbf{A} \\mathbf{C} = \\mathbf{C_{feed}}$$\n",
    "\n",
    "-   Therefore, we have that the system of linear equations governs the input and the output govern the steady state behaviour since\n",
    "\n",
    "$$\\mathbf{A}^{-1} \\mathbf{C_{feed}} = \\mathbf{C}$$\n",
    "\n",
    "so that $\\mathbf{A}^{-1}$ transforms the feed concentrations into the exit concentrations. Solving these equations is now straightforward:\n",
    "\n"
   ]
  },
  {
   "cell_type": "code",
   "execution_count": 3,
   "metadata": {},
   "outputs": [
    {
     "name": "stdout",
     "output_type": "stream",
     "text": [
      "The exit concentrations are 0.15,0.07,0.78 \n"
     ]
    }
   ],
   "source": [
    "import numpy as np\n",
    "\n",
    "tau = 2.5  # Residence time (min)\n",
    "\n",
    "C_feed = [1., 0.0, 0.0] # mol / L\n",
    "k1 = 2.3  # 1/min\n",
    "k2 = 4.5  # 1/min\n",
    "\n",
    "A = np.array([[1 + tau * k1, 0.0, 0.0],\n",
    "              [-tau * k1, 1 + tau * k2, 0.0],\n",
    "              [0.0, -tau * k2, 1]])\n",
    "\n",
    "C= np.linalg.solve(A, C_feed)\n",
    "\n",
    "#print 'The exit concentrations are C_A=' + str(C[0]) + ' C_C= '+str(C[1])+' C_D= ' + str(C[2]) + ' mol/L '\n",
    "\n",
    "print(f'The exit concentrations are {C[0]:1.2f},{C[1]:1.2f},{C[2]:1.2f} ')"
   ]
  },
  {
   "cell_type": "markdown",
   "metadata": {},
   "source": [
    "-   Hence, this problem shows that the form of linear algebra structure is present in the $Ax=y$ representation which is seemingly simply chemical reaction system to be considered.\n",
    "\n"
   ]
  },
  {
   "cell_type": "markdown",
   "metadata": {},
   "source": [
    "## Dynamics models and linear transformation\n",
    "\n"
   ]
  },
  {
   "cell_type": "markdown",
   "metadata": {},
   "source": [
    "-   In the previous sections we already explored the structure of the `linear system` given by the matrices *(A,B,C,D)* and therefore dynamics is given by:\n",
    "\n",
    "$$\\begin{array}\\dot{x}(t)=Ax(t)+Bu(t)\\label{eq1}\\tag{1}\\\\y(t)=Cx(t)+Du(t) \\end{array}$$\n",
    "\n",
    "where the initial condition $x(0)=x_0$ represents the initial state of the plant and input $u(t)$ is known to us.\n",
    "\n",
    "-   In general chemical engineering practice the number of the states in the state vector $x(t)$ can take a large values since we can consider that Eq.[eq1](#eq1) represents entire chemical plant of several hundred states (representing, concentrations, pressures and temperatures across the plant). Hence, sometimes is beneficial to transform the linear system *(A,B,C,D)* in the form which provides the insight in the rate of the response of the system states or in the form where each state of the matrix *A* is decoupled from other states but it is only influenced by itself and by the input. In other words, we can perform linear transformations (providing that the transformation is invertible) and change the initial *(A,B,C,D)* to some other $(A_1,B_1,C_1,D_1)$ with desired structure of the transformed system.\n",
    "\n",
    "-   Let us look in the examples of these transformations. We revisit the modeling of the CSTR by considering the following schematics:\n",
    "\n",
    "![img](./figuresCHE472/ditaa-cstr.png)\n",
    "\n",
    "-   Writing the equations for the reactor gives\n",
    "\n",
    "$$\\frac{d(C_jV_R)}{dt}=Q_fC_{jf}-QC_j+R_jV_R,\\;\\;\\;\\;j=1,\\cdots,n$$\n",
    "\n",
    "so that under the assumption of the constant volume and same volumetric flowrates of the inflow and outflow stream the above equation takes the form:\n",
    "\n",
    "$$\\frac{dC_A}{dt} = C_{A, feed} - C_A - \\tau k_1 C_A$$\n",
    "\n",
    "$$\\frac{dC_C}{dt} = C_{C, feed} - C_C + \\tau k_1 C_A - \\tau k_2 C_C$$\n",
    "\n",
    "$$\\frac{dC_D}{dt} = C_{D, feed} - C_D + \\tau k_2 C_C$$\n",
    "\n",
    "hence, we have a system of equations written as \n",
    "\n",
    "$$\\frac{d\\mathbf{C}}{dt}= \\mathbf{A} \\mathbf{C}+\\mathbf{B}u_{feed}$$\n",
    "\n",
    "and we can apply the linear transformation $\\mathbf{C}=Tx$ by multiplying above equation with matrix **inv(T)** from the left, such that the following is obtained\n",
    "\n",
    "$$\\frac{d}{dt}T^{-1}\\mathbf{C} =T^{-1}\\mathbf{A} \\mathbf{C}+T^{-1}\\mathbf{B}u_{feed}\\;\\;\\;\\rightarrow\\;\\;\\;\\frac{d}{dt}x=T^{-1}\\mathbf{A}Tx+T^{-1}\\mathbf{B}u_{feed}=\\tilde{A}x+\\tilde{B}u_{feed}$$\n",
    "\n",
    "therefore by recognizing that $T^{-1}\\mathbf{A}T=\\tilde{A}$, and $T^{-1}\\mathbf{B}=\\tilde{B}$ is another linear system characterized with matrix $(\\tilde{A},\\tilde{B})$ one can conclude that linear transformation changed the original system in another linear system which has more convenient form for analysis.\n",
    "\n",
    "-   At this point, we are looking in the *type of liner transformation* **T** which will transform the original system in the diagonal form so that we can explore the time evolution of the formed species. Therefore, the transformed system $\\tilde{A}$ will be given in the diagonal form and the transformation **T** is called **modal transformation** (since transformed system has decoupled modes)\n",
    "\n"
   ]
  },
  {
   "cell_type": "code",
   "execution_count": 4,
   "metadata": {},
   "outputs": [
    {
     "name": "stdout",
     "output_type": "stream",
     "text": [
      "The transformed A_tilde is diagonal matrix with -1.00,-12.25,-6.75 \n",
      "The transformed B_tilde is column vector with [3.],[-0.06428243],[2.50536614] \n"
     ]
    }
   ],
   "source": [
    "import numpy as np\n",
    "from numpy.linalg import inv\n",
    "from numpy import linalg as LA\n",
    "\n",
    "tau = 2.5  # Residence time (min)\n",
    "C_feed = [2.2, 0.0, 0.0] # mol / L\n",
    "k1 = 2.3  # 1/min\n",
    "k2 = 4.5  # 1/min\n",
    "\n",
    "A = np.array([[-1 - tau * k1, 0.0, 0.0],\n",
    "              [tau * k1, -1 - tau * k2, 0.0],\n",
    "              [0.0, tau * k2,- 1]])\n",
    "B=np.array([[1],[1],[1]])\n",
    "\n",
    "S, W = LA.eig(A)\n",
    "\n",
    "A_til=np.matmul(np.matmul(inv(W),A),(W))\n",
    "B_til=np.matmul(inv(W),B)\n",
    "\n",
    "#print 'The exit eigenvalues are lambda_1=' + str(S[0]) + ' lambda_2= '+str(S[1])+' lambda_3= ' + str(S[2]) \n",
    "\n",
    "print(f'The transformed A_tilde is diagonal matrix with {A_til[0,0]:1.2f},{A_til[1][1]:1.2f},{A_til[2][2]:1.2f} ')\n",
    "print(f'The transformed B_tilde is column vector with {B_til[0]},{B_til[1]},{B_til[2]} ')"
   ]
  },
  {
   "cell_type": "markdown",
   "metadata": {},
   "source": [
    "-   Hence, the solution of the time evolution of the concentration change in the CSTR can be written as a system of decoupled ordinary differential equations in the following form\n",
    "    \n",
    "    $$\\frac{dx}{dt}=\\left[\\begin{array}{ccc}\\lambda_1& 0 & 0\\\\0 & \\lambda_2 & 0  \\\\0 & 0 & \\lambda_3\\end{array}\\right]x+\\left[\\begin{array}{c}b_1\\\\b_2\\\\b_3\\end{array}\\right]u_{feed} \\label{eq3}\\tag{3}$$\n",
    "    \n",
    "    -   Finally, each state of the vector $x$ will have its own time constant reflected in eigenvalues $\\lambda_1,\\lambda_2,\\lambda_3$, so that\n",
    "    \n",
    "    $$x_1(t)=e^{\\lambda_1t}x_1(0)+\\int_0^te^{\\lambda_1(t-\\tau)}b_1u_{feed}(\\tau)d\\tau$$\n",
    "    $$x_2(t)=e^{\\lambda_2t}x_2(0)+\\int_0^te^{\\lambda_2(t-\\tau)}b_2u_{feed}(\\tau)d\\tau$$\n",
    "    $$x_3(t)=e^{\\lambda_3t}x_3(0)+\\int_0^te^{\\lambda_3(t-\\tau)}b_3u_{feed}(\\tau)d\\tau$$\n",
    "    \n",
    "    -   Hence, we can obtained that state dynamics only depends on its intrinsic state characteristics $x_1(t)$ depends on $\\lambda_1$ only, and in similar way $x_2(t)$ only on $\\lambda_2$, and on the input in the reactor. Therefore, by simulating the $x(t)$ evolution we can apply the transformation **T** and obtain corresponding **C** - concentrations. We will assume that the constant input $u_{feed}$ is applied at time $t=1min$ (we can change when the input is applied in the ensuing coding section). Therefore, we have the following:\n",
    "\n"
   ]
  },
  {
   "cell_type": "code",
   "execution_count": 5,
   "metadata": {},
   "outputs": [
    {
     "name": "stdout",
     "output_type": "stream",
     "text": [
      "[0.00000000e+00 0.00000000e+00 2.39651036e+00 1.17319166e+00\n",
      " 5.74326193e-01 2.81156597e-01 1.37637867e-01 6.73794700e-02\n",
      " 3.29850576e-02 1.61475598e-02 7.90490323e-03 3.86977945e-03\n",
      " 1.89441825e-03 9.27396655e-04 4.53999298e-04]\n",
      "range(0, 3)\n"
     ]
    },
    {
     "data": {
      "text/plain": [
       "Text(0, 0.5, 'C1,C2,C3')"
      ]
     },
     "execution_count": 5,
     "metadata": {},
     "output_type": "execute_result"
    }
   ],
   "source": [
    "import numpy as np\n",
    "\n",
    "t = np.linspace(0, 10, 15)\n",
    "\n",
    "x0=np.matmul(inv(W),np.ones(3))\n",
    "u_feed=np.zeros(len(t))\n",
    "t[0]\n",
    "\n",
    "for i in range(len(t)):\n",
    "    if t[i]>1:\n",
    "       t[i]\n",
    "       u_feed[i]=10\n",
    "    else:\n",
    "       u_feed[i]=0\n",
    "\n",
    "    \n",
    "x1_init=np.exp(A_til[0][0]*t)*x0[0]\n",
    "x2_init=np.exp(A_til[1][1]*t)*x0[1]\n",
    "x3_init=np.exp(A_til[2][2]*t)*x0[2]\n",
    "\n",
    "\n",
    "x1 = np.exp(A_til[0][0]*t)*u_feed\n",
    "x2 = np.exp(A_til[1][1]*t)*u_feed\n",
    "x3 = np.exp(A_til[2][2]*t)*u_feed\n",
    "\n",
    "\n",
    "(len(t))\n",
    "A1=np.zeros(len(t))\n",
    "A2=np.zeros(len(t))\n",
    "A3=np.zeros(len(t))\n",
    "\n",
    "F1=np.zeros(len(t))\n",
    "F2=np.zeros(len(t))\n",
    "F3=np.zeros(len(t))\n",
    "\n",
    "print(x1)\n",
    "print(range(3))\n",
    "for i in range(2,len(t)+1):\n",
    "    #print(x[0:i])\n",
    "    A1[i-1]=np.trapz(x1[0:i],t[0:i])\n",
    "    A2[i-1]=np.trapz(x2[0:i],t[0:i])\n",
    "    A3[i-1]=np.trapz(x3[0:i],t[0:i])\n",
    "\n",
    " \n",
    "for i in range(len(A1)):\n",
    "    F1[i]=A1[i]*B_til[0]*np.exp(A_til[0][0]*t[i])\n",
    "    F2[i]=A2[i]*B_til[1]*np.exp(A_til[1][1]*t[i])\n",
    "    F3[i]=A3[i]*B_til[2]*np.exp(A_til[2][2]*t[i])\n",
    "    \n",
    "X1=x1_init+F1\n",
    "X2=x2_init+F2\n",
    "X3=x3_init+F3\n",
    "\n",
    "#matplotlib inline\n",
    "import matplotlib.pyplot as plt\n",
    "plt.xkcd()\n",
    "plt.plot(t, X1,t,X2,t,X3)\n",
    "plt.xlabel('t')\n",
    "plt.ylabel('x1,x2,x3')\n",
    "#plt.xlim([x.min(), x.max()])\n",
    "C1=np.zeros(len(t))\n",
    "C2=np.zeros(len(t))\n",
    "C3=np.zeros(len(t))\n",
    "\n",
    "# if we want to plot concetration we need another loop to link C=Tx\n",
    "for i in range(len(A1)):\n",
    "    C1[i]=np.matmul(W[0],[X1[i], X2[i], X3[i]])\n",
    "    C2[i]=np.matmul(W[1],[X1[i], X2[i], X3[i]])\n",
    "    C3[i]=np.matmul(W[2],[X1[i], X2[i], X3[i]])\n",
    "\n",
    "    \n",
    "plt.figure() \n",
    "plt.xkcd()\n",
    "plt.plot(t, C1,t,C2,t,C3)\n",
    "plt.xlabel('t')\n",
    "plt.ylabel('C1,C2,C3')"
   ]
  },
  {
   "cell_type": "markdown",
   "metadata": {},
   "source": [
    "-   In this way we demonstrated that in the case of the system given by chemical reactor the state transformation transforms system in diagonal form where states are decoupled from each other and only coupling is through the input. In the subsequent section we will check conditions when we can achieve this and what properties can be inferred in this case. In other words the equation system Eq.[eq3](#eq3) can be realized in mathematical setting with the computing device which contains three basic elements, integrator, gains and summation elements.\n",
    "    \n",
    "    ![img](./figuresCHE472/ditaa-sys.png)\n",
    "\n"
   ]
  },
  {
   "cell_type": "markdown",
   "metadata": {},
   "source": [
    "### Diagonalizing the matrix A (method I)\n",
    "\n"
   ]
  },
  {
   "cell_type": "markdown",
   "metadata": {},
   "source": [
    "-   In the previous section we demonstrated how system can be diagonalized providing that the dynamics of the system has distinct eigenvalues. Hence, if the system is diagonalizable it can be transformed to the form where each state (mode) depends only on itself growth (decay) rate and the input (forcing) function. Another way to construct linear transformation which achieves diagonalization is to construct so called the Vandermonde matrix and apply to the matrix A which is in the *companion form*. Therefore, if the matrix A is in the companion form and it has distinct eigenvalues $\\lambda_1,\\lambda_2,\\lambda_3$ then we can find Vandermonde matrix by th following expression:\n",
    "    \n",
    "    $$T=\\left[\\begin{array}{ccc} 1 & 1 & 1\\\\\\lambda_1 & \\lambda_2 & \\lambda_3 \\\\ \\lambda_1^2 & \\lambda_2^2 & \\lambda_3^2\\end{array}\\right]$$\n",
    "    \n",
    "    The *companion form* of matrix $A$ comes from the following consideration of the dynamical systems description. Namely, we have a higher order differential forms which usually arise from the conservation laws (for example Newton's law is given as second order differential form $M\\frac{d^2x}{dt^2}=f(t)$). Therefore one can considered,\n",
    "    \n",
    "    $$ \\frac{d^nx}{dt^n}+a_{n-1}\\frac{d^{n-1}x}{dt^{n-1}}+a_{n_2}\\frac{d^{n-2}x}{dt^{n-2}}+\\cdots+a_1\\frac{dx}{dt}+a_0x=f(t)$$\n",
    "    \n",
    "    which by standard change of variables can be transformed in the companion form by introducing the states $x=x_1$,$\\frac{dx_1}{dt}=x_2$, $\\frac{dx_2}{dt}=x_3$, $\\cdots$, $\\frac{dx_{n-1}}{dt}=x_n$, so that the system of equations becomes:\n",
    "    \n",
    "    $$\\frac{d}{dt} \\left[\\begin{array}{c}x_1\\\\x_2\\\\\\cdots\\\\x_{n-1}\\\\x_n\\end{array}    \\right] = \\left[ \\begin{array}{ccccc} 0 & 1 & 0 & \\cdots & 0\\\\ 0 & 0 & 1 & \\cdots & 0\\\\ 0 & 0 & 0 & \\cdots & 0\\\\ 0 & 0 & 0 & \\cdots & 1\\\\ -a_0 & -a_1 & -a_2 & \\cdots & -a_{n-1} \\end{array} \\right]  \\left[\\begin{array}{c}x_1\\\\x_2\\\\\\cdots\\\\x_{n-1}\\\\x_n\\end{array}    \\right]  + \\left[\\begin{array}{c}0\\\\0\\\\0\\\\\\cdots\\\\1\\end{array}  \\right] f(t) $$\n",
    "    \n",
    "    where matrix **A<sub>c</sub>** is in `companion form` and in particular *controller companion form* since all states can be controlled from the input $f(t)$. This can be recognized by the structure since the input $f(t)$ can drive the state $x_{n}$, and $x_{n}$ is linked to  $x_{n-1}$ and so on with the ones above the dominant diagonal of the matrix A. Therefore, let us demonstrate our findings:\n",
    "\n"
   ]
  },
  {
   "cell_type": "code",
   "execution_count": 6,
   "metadata": {},
   "outputs": [
    {
     "name": "stdout",
     "output_type": "stream",
     "text": [
      "The transformed A_tilde is diagonal matrix with -1.00,-6.75,-12.25 \n",
      "The transformed B_tilde is column vector with [0.01545894],[-0.03162055],[0.01616162] \n"
     ]
    },
    {
     "data": {
      "text/plain": [
       "array([ -1.  ,  -6.75, -12.25])"
      ]
     },
     "execution_count": 6,
     "metadata": {},
     "output_type": "execute_result"
    }
   ],
   "source": [
    "import numpy as np\n",
    "from numpy.linalg import inv\n",
    "from numpy import linalg as LA\n",
    "\n",
    "A = np.array([[0.0, 1.0 , 0.0],\n",
    "              [0.0, 0.0 , 1.0],\n",
    "\t          [-((-S[0])*(-S[1])*(-S[2])),-((-S[0])*(-S[1])+(-S[1])*(-S[2])+(-S[0])*(-S[2])),\n",
    "               -((-S[0])+(-S[1])+(-S[2]))]])\n",
    "\n",
    "B=np.array([[0],[0],[1]])\n",
    "\n",
    "S1, W = LA.eig(A)\n",
    "\n",
    "\n",
    "T=np.array([[1   ,  1 ,   1],\n",
    "            [S1[0],S1[1],S1[2]],\n",
    "            [S1[0]*S1[0],S1[1]*S1[1],S1[2]*S1[2]]])\n",
    "\n",
    "A_til=np.matmul(np.matmul(inv(T),A),(T))\n",
    "B_til=np.matmul(inv(T),B)\n",
    "\n",
    "#print A_til\n",
    "print(f'The transformed A_tilde is diagonal matrix with {A_til[0,0]:1.2f},{A_til[1][1]:1.2f},{A_til[2][2]:1.2f} ')\n",
    "print(f'The transformed B_tilde is column vector with {B_til[0]},{B_til[1]},{B_til[2]} ')\n",
    "#print 'The transformed A_tilde is diagonal matrix with eigenvalues ' + str(A_til[0,0]) + ', ' + str(A_til[1,1]) +', '+str(A_til[2,2])\n",
    "#print 'The transformed B_tilde is vector with velues ' + str(B_til[0]) + ', ' + str(B_til[1]) +', '+str(B_til[2])\n",
    "\n",
    "A_til\n",
    "S1"
   ]
  },
  {
   "cell_type": "markdown",
   "metadata": {},
   "source": [
    "### Diagonalizing matrix A (method II)\n",
    "\n"
   ]
  },
  {
   "cell_type": "markdown",
   "metadata": {},
   "source": [
    "-   The second method does not require the A matrix to be in companion form. Premultiplying the following equation from the left with matrix A\n",
    "    \n",
    "    $$ T^{-1}AT=\\Lambda $$\n",
    "    we obtain \n",
    "    $$ AT=T\\Lambda\\label{eq4}\\tag{4} $$\n",
    "    where $\\Lambda$ is diagonal matrix with eigenvalues, therefore the right hand side can be written as\n",
    "    $$AT=\\left[ \\begin{array}{cccc} \\nu_{11} & \\nu_{12} & \\cdots & \\nu_{1n}\\\\  \\nu_{21} & \\nu_{22} & \\cdots & \\nu_{2n}\\\\ \\cdots & \\cdots & \\cdots & \\cdots \\\\ \\nu_{n1} & \\nu_{n2} & \\cdots & \\nu_{nn}\\end{array} \\right]\\left[ \\begin{array}{cccc} \\lambda_{1} & 0 & \\cdots & 0 \\\\ 0  & \\lambda_{2} & \\cdots & 0\\\\ \\cdots & \\cdots & \\cdots & \\cdots \\\\ 0 & 0 & \\cdots & \\lambda_{n}\\end{array} \\right]=\\left[ \\begin{array}{cccc} \\lambda_1 \\nu_{11} & \\lambda_2 \\nu_{12} & \\cdots & \\lambda_n \\nu_{1n}\\\\ \\lambda_1 \\nu_{21} & \\lambda_2 \\nu_{22} & \\cdots & \\lambda_n \\nu_{2n}\\\\ \\cdots & \\cdots & \\cdots & \\cdots \\\\ \\lambda_1 \\nu_{n1} & \\lambda_2 \\nu_{n2} & \\cdots &\\lambda_n \\nu_{nn}\\end{array} \\right]=\\left[ \\begin{array}{cccc}\\lambda_1\\textbf{v}_1&\\lambda_2\\textbf{v}_2&\\cdots&\\lambda_n\\textbf{v}_n\\end{array}\\right] $$\n",
    "    the column vectors $\\textbf{v}_i$ of the modal matrix \n",
    "    $$ T= \\left[\\begin{array}{cccc}\\textbf{v}_1&\\textbf{v}_2&\\cdots&\\textbf{v}_n\\end{array} \\right] $$\n",
    "    are called `eigenvectors` and in terms of the $\\textbf{v}_i$ the equation Eq.[eq4](#eq4) is written as:\n",
    "     $$\\left[\\begin{array}{cccc}A\\textbf{v}_1&A\\textbf{v}_2&\\cdots&A\\textbf{v}_n\\end{array}\\right]=\\left[\\begin{array}{cccc}\\lambda_1\\textbf{v}_1&\\lambda_2\\textbf{v}_2&\\cdots&\\lambda_n\\textbf{v}_n\\end{array}\\right] $$\n",
    "    \n",
    "    By equating the columns on the left and right hand side of the equations we obtain\n",
    "    \n",
    "    $$A\\textbf{v}_i=\\lambda_i\\textbf{v}_i$$\n",
    "    \n",
    "    or in the other form:\n",
    "    \n",
    "    $$\\left[ \\lambda_iI-A\\right]v_i=0 \\label{eq5}\\tag{5}$$\n",
    "    \n",
    "    The above equations identifies eigenvectors $\\textbf{v}_i$ to lie in the *null space/* of the matrix $[\\lambda_iI-A]$. Now, we use the property that for any matrix **M** the following holds $M*adj(M)=|M|I$, which implies that $\\left[ \\lambda_iI-A\\right]adj(\\left[ \\lambda_iI-A\\right])=|\\lambda_iI-A|I=0$, since $\\lambda_i$ is eigenvalue so that, we conclude \n",
    "    \n",
    "    $$ \\left[\\lambda_iI-A\\right]adj(\\left[ \\lambda_iI-A\\right] )= 0 $$\n",
    "    \n",
    "    which implies that  $\\textbf{v}_i $ is proportional to any nonzero column of $adj[ \\lambda_iI-A]$. The invertability of **T** is associated with the linear independence of $\\textbf{v}_i$ which is ensured ones when the eigenvalues are distinct and Eq.[eq5](#eq5) is homogeneous equation whose rank is $n-1$, and each value of $\\lambda_i$ yields only one eigenvector $\\textbf{v}_i$. When the eigenvalue $\\lambda_1$ has the multiplicity  **r**, the rank deficiency $\\alpha$ of Eq.[eq5](#eq5) is $1\\le\\alpha\\le r$.\n",
    "\n"
   ]
  },
  {
   "cell_type": "markdown",
   "metadata": {},
   "source": [
    "#### Example: Use \\(adj([$\\lambda_i$I-A])) to obtain the modal matrix for the system\n",
    "\n"
   ]
  },
  {
   "cell_type": "markdown",
   "metadata": {},
   "source": [
    "$$\\frac{d}{dt}x=\\left[\\begin{array}{ccc} -9 & 1 & 0\\\\-26 & 0 & 1\\\\- 24 & 0 & 0\\end{array}\\right]+\\left[\\begin{array}{c}2\\\\5\\\\0\\end{array}\\right]u(t)$$\n",
    "\n",
    "we recognize that characteristic equation $ |\\lambda I-A|=0$ yields roots $ \\lambda_i=\\{-2,-3,-4\\}$. These eigenvalues are distinct, but A is not in companion form. Therefore, the Vandermode matrix is not the modal matrix, so we use adjoint method \n",
    "\n",
    "$$adj[\\lambda I -A]=adj(\\left[\\begin{array}{ccc}\\lambda+9 & -1 & 0\\\\26 & \\lambda & -1\\\\24 & 0 & \\lambda \\end{array}\\right])=\\left[\\begin{array}{ccc}\\lambda^2 & \\lambda & 1\\\\-26\\lambda-24 & \\lambda^2+9\\lambda & \\lambda + 9\\\\-24\\lambda & -24 & \\lambda^2+9\\lambda+26 \\end{array}\\right]  $$\n",
    "\n",
    "for the quick reference on finding **adjoint** (of a square matrix is the transpose of its cofactor matrix), please consider to take a look at  [https://en.wikipedia.org/wiki/Adjugate_matrix#3_×_3_generic_matrix](https://en.wikipedia.org/wiki/Adjugate_matrix#3_×_3_generic_matrix). Hence, for\n",
    "\n",
    "$$\\lambda_1=-2\\;\\;\\;\\;\\;\\;\\;\\;adj[-2I-A]=\\left[\\begin{array}{ccc}4 & -2 & 1\\\\28 & -14 & 7 \\\\48 & -24 & 12\\end{array}\\right]\\;\\;\\;\\;\\;\\;\\;\\;\\textbf{v}_1=\\left[\\begin{array}{c}1 \\\\7\\\\12 \\end{array} \\right]$$\n",
    "$$\\lambda_2=-3\\;\\;\\;\\;\\;\\;\\;\\;adj[-3I-A]=\\left[\\begin{array}{ccc}9 & -3 & 1\\\\54 & -18 & 6 \\\\72 & -24 & 8\\end{array}\\right]\\;\\;\\;\\;\\;\\;\\;\\;\\textbf{v}_2=\\left[\\begin{array}{c}1 \\\\6\\\\8 \\end{array} \\right]$$\n",
    "$$\\lambda_1=-4\\;\\;\\;\\;\\;\\;\\;\\;adj[-4I-A]=\\left[\\begin{array}{ccc}16 & -4 & 1\\\\80 & -20 & 5 \\\\96 & -24 & 6\\end{array}\\right]\\;\\;\\;\\;\\;\\;\\;\\;\\textbf{v}_3=\\left[\\begin{array}{c}1 \\\\5\\\\6 \\end{array} \\right]$$\n",
    "\n",
    "for each $\\lambda_i$ the columns of $adj[\\lambda_i i-a])$ are linearly related; i.e., they are proportional. The $\\textbf{v}_i$ may be multiplied by a constant and are selected to contain the smallest integers; often the leading term is reduced to 1. Therefore the modal matrix is $T=[\\begin{array}{ccc}v_1&v_2&v_3\\end{array}]$. so that the desired modal matrix is\n",
    "\n",
    "$$ T=\\left[\\begin{array}{ccc}1 & 1 & 1\\\\7 & 6 & 5 \\\\12 & 8 & 6\\end{array}\\right]$$\n",
    "\n",
    "in general there are many ways to find t$T$and the process is not unique. hence, let us look at computational aspects of finding $T$.\n",
    "\n"
   ]
  },
  {
   "cell_type": "code",
   "execution_count": 10,
   "metadata": {},
   "outputs": [
    {
     "name": "stdout",
     "output_type": "stream",
     "text": [
      "[[-2.00000000e+00  2.66453526e-15  3.33066907e-15]\n",
      " [-7.10542736e-15 -3.00000000e+00 -7.10542736e-15]\n",
      " [-8.88178420e-16 -5.32907052e-15 -4.00000000e+00]]\n"
     ]
    }
   ],
   "source": [
    "import numpy as np\n",
    "import matplotlib.pyplot as plt\n",
    "import scipy.linalg as la\n",
    "\n",
    "A = np.array([[-9, 1, 0],\n",
    "              [-26, 0, 1],\n",
    "              [-24 ,0 ,0]])\n",
    "\n",
    "evals, evecs = la.eig(A)\n",
    "\n",
    "#print 'eigenvalues' + str(evals)\n",
    "#print 'eigenvectors' + str(evecs)\n",
    "#print '\\n'\n",
    "\n",
    "Tinv=inv(evecs)\n",
    "T=evecs\n",
    "\n",
    "Lambda = np.matmul(np.matmul(Tinv,A),T)\n",
    "\n",
    "#print '\\n'\n",
    "#print str(lambda)\n",
    "\n",
    "T1=np.array([[1,1,1],\n",
    "             [7,6,5],\n",
    "\t     [12,8,6]])\n",
    "\n",
    "Lambda1=np.matmul(np.matmul(inv(T1),A),T1)\n",
    "\n",
    "print(Lambda1)\n",
    "\n",
    "\n",
    "#print(f'Lambda='Lambda)\n",
    "#print(f'Lambda='Lambda1)"
   ]
  },
  {
   "cell_type": "markdown",
   "metadata": {},
   "source": [
    "### Transformation of matrix a with complex values\n",
    "\n"
   ]
  },
  {
   "cell_type": "markdown",
   "metadata": {},
   "source": [
    "-   Along the same line as above we can consider the case when the eigenvalues are complex numbers $\\lambda_i=a\\pm jb$. This leads to the case of finding a linear transformation so that the transformed system has diagonal complex eigenvalues. \n",
    "    \n",
    "    -   Let us consider an example of mass-spring-damper system with the well defined mass (m), damping coefficient (b) and elasticity coefficient k. In other words, we have\n",
    "        \n",
    "        $$m\\ddot{x}+b\\dot{x}+kx=f(t)$$\n",
    "    \n",
    "    which represents a second Newton's law. The state space representation in terms of position and velocity ($x(t)$ and $\\dot{x}(t)$) is given as, and assuming that $y(t)=x(t)$:\n",
    "    \n",
    "    $$\\frac{d}{dt} \\left[\\begin{array}{c}{x}\\\\\\dot{x}\\end{array}\\right]=\\left[ \\begin{array}{cc} 0 & 1\\\\ -\\frac{k}{m} & -\\frac{b}{m}\\end{array}\\right] \\left[\\begin{array}{c}x\\\\\\dot{x}\\end{array}\\right]+ \\left[\\begin{array}{c}0\\\\\\frac{1}{m}\\end{array}\\right]f(t)  $$\n",
    "    \n",
    "    -   Since the eigenvalues are $\\lambda_i=-b/2m\\pm1/2\\sqrt{b^2/m^2- 4k/m}=\\sigma\\pm j\\omega_d$  distinct and the matrix is in companion form, the Vandermonde matrix is \n",
    "        \n",
    "        $$T=\\left[\\begin{array}{cc} 1 & 1\\\\\\sigma+j\\omega_d & \\sigma-j\\omega_d\\end{array}\\right]=[\\textbf{v}_1\\;\\;\\textbf{v}_2] $$\n",
    "        \n",
    "        so by using a transformation **x=Tz**, the final form of the state equations becomes\n",
    "        $$\\frac{d}{dt} \\left[\\begin{array}{c}z\\\\\\dot{z}\\end{array}\\right]=\\left[ \\begin{array}{cc} \\sigma+j\\omega_d & 1\\\\ 0  & \\sigma-j\\omega_d\\end{array}\\right] \\left[\\begin{array}{c}z\\\\\\dot{z}\\end{array}\\right]+ \\left[\\begin{array}{c}\\frac{1}{2j\\omega_d} \\\\ -\\frac{1}{j2\\omega_d}\\end{array}\\right]f(t)  $$\n",
    "        \n",
    "        hence the issue of obtaining the numerical realization by employing the integrator, summation and gain elements becomes to some extent not feasible since there is imaginary unit present in the elements. Thus, it may be desirable to perform another linear transformation in order to obtain a simulation diagram that can be realized and that contains only real quantities. The pair of complex-conjugate eigenvalues $\\lambda_1$ and $\\lambda_2$ jointly contribute to one transient mode that has the form of a damped sinusoid. The additional transformation is $z=Qw$, where\n",
    "        \n",
    "        $$Q=\\left[\\begin{array}{cc}\\frac{1}{2} & -\\frac{j}{2}\\end{array}\\right] $$\n",
    "        \n",
    "        so the new state is \n",
    "        \n",
    "        $$\\frac{dw}{dt}=Q^{-1} \\Lambda Q w+Q^{-1}T^{-1}Bf(t)$$\n",
    "        \n",
    "        which yields the following expression \n",
    "        \n",
    "        $$ \\frac{dw}{dt}=\\left[\\begin{array}{cc}\\sigma & \\omega_d\\\\-\\omega_d & \\sigma\\end{array}\\right]w+\\left[\\begin{array}{c}0\\\\\\frac{1}{\\omega_d}\\end{array}  \\right]f(t) $$\n",
    "        \n",
    "        The effect of two transformation $x=Tz$ and $z=Qw$ can be combined in one so that \n",
    "        \n",
    "        $$x=TQw=\\left[\\begin{array}{cc}1 & 0\\\\\\sigma & \\omega_d \\end{array} \\right]w=T_mw$$\n",
    "        \n",
    "        which implies that there is relation between original matrix $T$ and $T_m$ which shows that $T_m=\\left[Re(v_1)\\;\\;Im(v1)\\right]$\n",
    "    \n",
    "    ![img](./figuresCHE472/ditaa-sys_complex.png)\n",
    "    \n",
    "    -   In the general case containing both complex and real eigenvalues the modified block diagonal matrix $\\Lambda_m$ has the following form:\n",
    "        \n",
    "        $$\\Lambda_m=\\left[\\begin{array}{ccccccc}\\sigma_1 & \\omega_1 & & & & & 0\\\\-\\omega_1 & \\sigma_1 & & & & & &\\\\ & & \\sigma_2 & \\omega_2 & & & \\\\ & & -\\omega_2 & \\sigma_2 & & &\\\\ & & & & \\lambda_1 & &\\\\  & & & & &\\cdots& & \\\\ 0 & & & & & & \\lambda_n        \\end{array}\\right] $$\n",
    "        \n",
    "        with $B_m=T_m^{-1}B$ and $C_m=CT_m$. Therefore, for the above system the two oscillating modes produced by the two sets of complex eigenvalues are completely decoupled.  the column vectors contained in $T=\\left[v_1\\;\\;v_1^*\\;\\;v_3\\;\\;v_3^*\\;\\;v_5\\cdots\\;\\; v_n \\right]$ so the modified modal matrix is\n",
    "    \n",
    "    $$T_m=\\left[Re(v_1)\\;\\;Im(v_1)\\;\\;Re(v_3)\\;\\;Im(v_3)\\;\\;v_5\\;\\;\\cdots\\;\\;v_n \\right]$$\n",
    "\n"
   ]
  },
  {
   "cell_type": "markdown",
   "metadata": {},
   "source": [
    "## Summary\n",
    "\n"
   ]
  },
  {
   "cell_type": "markdown",
   "metadata": {},
   "source": [
    "-   In this lecture we learned how to transform a given linear system into the modal form.\n",
    "    -   We explored the linear system transformation which does not change the nature of the system but it transforms to the form that can be easily utilized and realized in the computational and modeling setting.\n",
    "    -   We learned techniques how to find the transformation matrix which achieves diagonalization of the system. The examples are demonstrated for the matrix A which has distinct eigenvalues and also complex eigenvalues.\n",
    "\n"
   ]
  }
 ],
 "metadata": {
  "kernelspec": {
   "display_name": "Python 3",
   "language": "python",
   "name": "python3"
  },
  "language_info": {
   "codemirror_mode": {
    "name": "ipython",
    "version": 3
   },
   "file_extension": ".py",
   "mimetype": "text/x-python",
   "name": "python",
   "nbconvert_exporter": "python",
   "pygments_lexer": "ipython3",
   "version": "3.7.3"
  },
  "org": {
   "KEYWORDS": "Dynamic Models and Discrete Models"
  }
 },
 "nbformat": 4,
 "nbformat_minor": 1
}
